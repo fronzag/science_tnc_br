{
 "cells": [
  {
   "cell_type": "code",
   "execution_count": 1,
   "id": "89f33bca-06c6-4392-9957-1f760aff12a5",
   "metadata": {},
   "outputs": [
    {
     "name": "stdout",
     "output_type": "stream",
     "text": [
      "Collecting git+https://github.com/urbanogilson/SICAR\n",
      "  Cloning https://github.com/urbanogilson/SICAR to c:\\users\\guilherme.fronza\\appdata\\local\\temp\\pip-req-build-e6z8entt\n"
     ]
    },
    {
     "name": "stderr",
     "output_type": "stream",
     "text": [
      "  ERROR: Error [WinError 2] O sistema não pode encontrar o arquivo especificado while executing command git version\n",
      "ERROR: Cannot find command 'git' - do you have 'git' installed and in your PATH?\n"
     ]
    }
   ],
   "source": [
    "!pip install git+https://github.com/urbanogilson/SICAR\n"
   ]
  },
  {
   "cell_type": "code",
   "execution_count": 1,
   "id": "c76ce626-1b88-4bf5-b082-063896fa089d",
   "metadata": {},
   "outputs": [],
   "source": [
    "from SICAR import Sicar\n"
   ]
  },
  {
   "cell_type": "code",
   "execution_count": 2,
   "id": "f1177d41-daaa-455e-ad38-789ee3fd7da6",
   "metadata": {},
   "outputs": [],
   "source": [
    "import pprint"
   ]
  },
  {
   "cell_type": "code",
   "execution_count": 3,
   "id": "7b0bca96-e8df-4804-bc12-7a1ec9838ed5",
   "metadata": {},
   "outputs": [],
   "source": [
    "car = Sicar(email = \"guilherme.fronza@gmail.com\")"
   ]
  },
  {
   "cell_type": "code",
   "execution_count": 4,
   "id": "126a190e-5089-4c19-b53d-e0b1891222c0",
   "metadata": {},
   "outputs": [],
   "source": [
    "# Get cities codes by state\n",
    "cities_codes = car.get_cities_codes(state='RR')"
   ]
  },
  {
   "cell_type": "code",
   "execution_count": 5,
   "id": "0b89701e-13cd-46d1-a57f-f3a4693fafdd",
   "metadata": {},
   "outputs": [
    {
     "name": "stdout",
     "output_type": "stream",
     "text": [
      "{'Alto Alegre': '1400050',\n",
      " 'Amajari': '1400027',\n",
      " 'Boa Vista': '1400100',\n",
      " 'Bonfim': '1400159',\n",
      " 'Cantá': '1400175',\n",
      " 'Caracaraí': '1400209',\n",
      " 'Caroebe': '1400233',\n",
      " 'Iracema': '1400282',\n",
      " 'Mucajaí': '1400308',\n",
      " 'Normandia': '1400407',\n",
      " 'Pacaraima': '1400456',\n",
      " 'Rorainópolis': '1400472',\n",
      " 'São João da Baliza': '1400506',\n",
      " 'São Luiz': '1400605',\n",
      " 'Uiramutã': '1400704'}\n"
     ]
    }
   ],
   "source": [
    "pprint.pprint(cities_codes)"
   ]
  },
  {
   "cell_type": "code",
   "execution_count": 7,
   "id": "c110e7dc-9eda-4eb7-b45f-ce3deba87617",
   "metadata": {},
   "outputs": [
    {
     "name": "stdout",
     "output_type": "stream",
     "text": [
      "Try 25 - Incorret captcha:  :-(\n",
      "Try 24 - Incorret captcha:  :-(\n",
      "Try 23 - Incorret captcha:  :-(\n",
      "Try 22 - Incorret captcha:  :-(\n",
      "Try 21 - Incorret captcha:  :-(\n",
      "Try 20 - Incorret captcha:  :-(\n",
      "Try 19 - Incorret captcha:  :-(\n",
      "Try 18 - Incorret captcha:  :-(\n",
      "Try 17 - Incorret captcha:  :-(\n",
      "Try 16 - Incorret captcha:  :-(\n",
      "Try 15 - Incorret captcha:  :-(\n",
      "Try 14 - Incorret captcha:  :-(\n",
      "Try 13 - Incorret captcha:  :-(\n",
      "Try 12 - Incorret captcha:  :-(\n",
      "Try 11 - Incorret captcha:  :-(\n",
      "Try 10 - Incorret captcha:  :-(\n",
      "Try 9 - Incorret captcha:  :-(\n",
      "Try 8 - Incorret captcha:  :-(\n",
      "Try 7 - Incorret captcha:  :-(\n",
      "Try 6 - Incorret captcha:  :-(\n",
      "Try 5 - Incorret captcha:  :-(\n",
      "Try 4 - Incorret captcha:  :-(\n",
      "Try 3 - Incorret captcha:  :-(\n",
      "Try 2 - Incorret captcha:  :-(\n",
      "Try 1 - Incorret captcha:  :-(\n"
     ]
    },
    {
     "data": {
      "text/plain": [
       "False"
      ]
     },
     "execution_count": 7,
     "metadata": {},
     "output_type": "execute_result"
    }
   ],
   "source": [
    "car.download_city_code('3157005', folder=r\"C:\\Users\\guilherme.fronza\\Downloads\", debug=True)"
   ]
  },
  {
   "cell_type": "code",
   "execution_count": null,
   "id": "8e4f64bb-1ecf-49a9-b819-e761be6d160a",
   "metadata": {},
   "outputs": [],
   "source": []
  }
 ],
 "metadata": {
  "kernelspec": {
   "display_name": "ENV1",
   "language": "python",
   "name": "env1"
  },
  "language_info": {
   "codemirror_mode": {
    "name": "ipython",
    "version": 3
   },
   "file_extension": ".py",
   "mimetype": "text/x-python",
   "name": "python",
   "nbconvert_exporter": "python",
   "pygments_lexer": "ipython3",
   "version": "3.9.7"
  }
 },
 "nbformat": 4,
 "nbformat_minor": 5
}
