{
 "cells": [
  {
   "cell_type": "code",
   "execution_count": null,
   "id": "307fd78a",
   "metadata": {},
   "outputs": [],
   "source": [
    "import geopandas as gpd\n",
    "import pandas as pd\n",
    "import matplotlib.pyplot as plt\n",
    "import numpy as np\n",
    "\n",
    "#pip uninstall rtree (spatial index error)\n",
    "\n",
    "def plot_histo(df, df_area_variable, colors_dict,  fig_name, fig_title, fig_subtitle):\n",
    "    df = df.sort_values(df_area_variable, ascending=True)\n",
    "    fig, ax = plt.subplots(figsize=(20,20), dpi=100)\n",
    "    # Set the colors\n",
    "    colors = colors_dict\n",
    "    # create ax\n",
    "    ax = df[df_area_variable].plot.barh(width=1, color=[colors[i] for i in df['Region']])\n",
    "    #title and suptitle\n",
    "    plt.suptitle(fig_title, fontsize=15, y=0.91)\n",
    "    plt.title(fig_subtitle,fontsize=10)\n",
    "    #plt ylabel with municipalities\n",
    "    yPos = np.arange(len(df.Municipalities))\n",
    "    plt.yticks(yPos, (df.Municipalities))\n",
    "    #plot colors\n",
    "    labels = list(colors.keys())\n",
    "    handles = [plt.Rectangle((0,0),1,1, color=colors[label]) for label in labels]\n",
    "    plt.legend(handles, labels)\n",
    "    #ax.bar_label(ax.containers[0])\n",
    "    plt.savefig(fig_name + '.png', dpi=300)\n",
    "    plt.show()"
   ]
  },
  {
   "cell_type": "code",
   "execution_count": null,
   "id": "3512b8b6",
   "metadata": {},
   "outputs": [],
   "source": [
    "dataset_priorizacao = r\"C:\\Users\\guilherme.fronza\\OneDrive\\cacauFlorestaAcelerador\\amazon_acelerador\\04a_dados_espaciais\\02_dados_scripts\\source\\CAR_ASSENT_AOI_UNION_MUN_PD2021_PASTURE.shp\"\n",
    "dataset_priorizacao = gpd.read_file(dataset_priorizacao, encoding='utf-8')\n",
    "dataset_priorizacao.columns\n",
    "#filtered_transamazonica = dataset_priorizacao.loc[dataset_priorizacao['nome'].isin(['Altamira','Trairão', 'Brasil Novo', 'Rurópolis', 'Uruará', 'Medicilândia', 'Placas'])]"
   ]
  },
  {
   "cell_type": "code",
   "execution_count": null,
   "id": "e5add924",
   "metadata": {},
   "outputs": [],
   "source": [
    "#HISTOGRAMS CEPLAC DATA\n",
    "municipalities_CEPLAC = dataset_priorizacao.drop_duplicates(subset = ['nome'])\n",
    "municipalities_CEPLAC = municipalities_CEPLAC[[\"nome\",'F2017_ha_p','F2018_ha_p', 'F2019_ha_p', 'F2017_ha_c', 'F2018_ha_c', 'F2019_ha_c', \n",
    "                                                         'F2017_ton', 'F2018_ton', 'F2019_ton']]\n",
    "municipalities_CEPLAC['ha_plantado_17_19_mean'] = municipalities_CEPLAC[['F2017_ha_p','F2018_ha_p', 'F2019_ha_p']].mean(axis=1)\n",
    "municipalities_CEPLAC['ha_colhido_17_19_mean'] = municipalities_CEPLAC[['F2017_ha_c', 'F2018_ha_c', 'F2019_ha_c']].mean(axis=1)\n",
    "municipalities_CEPLAC['ton_produzidas_17_19_mean'] = municipalities_CEPLAC[['F2017_ton', 'F2018_ton', 'F2019_ton']].mean(axis=1)\n",
    "\n",
    "#input regions in municipalities\n",
    "regions_csv = pd.read_csv(r'C:\\Users\\guilherme.fronza\\OneDrive\\cacauFlorestaAcelerador\\amazon_acelerador\\04a_dados_espaciais\\02_dados_referencia\\regions_utf8.csv',\n",
    "                          encoding='utf-8', sep=';')\n",
    "municipalities_CEPLAC_regions = pd.merge(municipalities_CEPLAC, regions_csv, left_on='nome', right_on='Municipalities')\n",
    "\n",
    "\n",
    "plot_histo(df=municipalities_CEPLAC_regions, df_area_variable= 'ha_plantado_17_19_mean', colors_dict ={'Nordeste do Pará': 'green', 'Transamazônica': 'brown', 'Sudeste do Pará': 'purple'},\n",
    "           fig_name='ha_plantado_17_19_mean', fig_title='Área em ha de Cacau (em amêndoa) plantado nos municípios de interesse', \n",
    "           fig_subtitle='*Dado CEPLAC - 2017 - 2019 - média')\n",
    "\n",
    "plot_histo(df=municipalities_CEPLAC_regions, df_area_variable= 'ha_colhido_17_19_mean', colors_dict ={'Nordeste do Pará': 'green', 'Transamazônica': 'brown', 'Sudeste do Pará': 'purple'},\n",
    "           fig_name='ha_colhido_17_19_mean', fig_title='Área em ha de Cacau (em amêndoa) colhido nos municípios de interesse', \n",
    "           fig_subtitle='*Dado CEPLAC - 2017 - 2019 - média')\n",
    "\n",
    "plot_histo(df=municipalities_CEPLAC_regions, df_area_variable= 'ton_produzidas_17_19_mean', colors_dict ={'Nordeste do Pará': 'green', 'Transamazônica': 'brown', 'Sudeste do Pará': 'purple'},\n",
    "           fig_name='ton_produzidas_17_19_mean', fig_title='Toneladas Cacau (em amêndoa) produzidas nos municípios de interesse', \n",
    "           fig_subtitle='*Dado CEPLAC - 2017 - 2019 - média')"
   ]
  },
  {
   "cell_type": "code",
   "execution_count": null,
   "id": "3aea8c85",
   "metadata": {},
   "outputs": [],
   "source": [
    "############## STARTING PROCESSING #################################"
   ]
  },
  {
   "cell_type": "raw",
   "id": "be5dbcdd",
   "metadata": {},
   "source": [
    "## Dataset filtering 10 years\n",
    "filtered_df_10y = dataset_priorizacao[(dataset_priorizacao['D2021'] == 0) & (dataset_priorizacao['D2020'] == 0) & (dataset_priorizacao['D2019'] == 0) \n",
    "                                     & (dataset_priorizacao['D2018'] == 0) & (dataset_priorizacao['D2017'] == 0) & (dataset_priorizacao['D2016'] == 0)\n",
    "                                     & (dataset_priorizacao['D2015'] == 0) & (dataset_priorizacao['D2014'] == 0) & (dataset_priorizacao['D2013'] == 0)\n",
    "                                     & (dataset_priorizacao['D2012'] == 0)]\n",
    "filtered_df_10y_qpasture = filtered_df_10y[(filtered_df_10y['PASTO_LEVE'] > 0) | (filtered_df_10y['PASTO_MOD'] > 0)]\n",
    "\n",
    "regions_csv = pd.read_csv(r'C:\\Users\\guilherme.fronza\\OneDrive\\cacauFlorestaAcelerador\\amazon_acelerador\\04a_dados_espaciais\\02_dados_referencia\\regions_utf8.csv',\n",
    "                          encoding='utf-8', sep=';')"
   ]
  },
  {
   "cell_type": "code",
   "execution_count": null,
   "id": "30fede79",
   "metadata": {},
   "outputs": [],
   "source": [
    "\n",
    "mun_area_sum = filtered_df_10y_qpasture.groupby(['nome']).sum()\n",
    "mun_area_sum_municipalities = pd.merge(mun_area_sum, regions_csv, left_on=mun_area_sum.index, right_on='Municipalities')\n",
    "mun_area_sum_municipalities = mun_area_sum_municipalities.sort_values(\"ar_ha_all\", ascending=False)"
   ]
  },
  {
   "cell_type": "code",
   "execution_count": null,
   "id": "711923ea",
   "metadata": {},
   "outputs": [],
   "source": [
    "   \n",
    "plot_histo(df=mun_area_sum_municipalities, df_area_variable= 'ar_ha_all',colors_dict ={'Nordeste do Pará': 'green', 'Transamazônica': 'brown', 'Sudeste do Pará': 'purple'},\n",
    "           fig_name='10y_plevmod_total', fig_title='Áreas* sem desmatamento últimos 10 anos com pasto leve ou moderado (degrad) total (ha) por município', \n",
    "           fig_subtitle='*Área considera imóveis rurais e assentamentos')"
   ]
  },
  {
   "cell_type": "code",
   "execution_count": null,
   "id": "4e1334ae",
   "metadata": {},
   "outputs": [],
   "source": [
    "pos2008_deforest_10y_plevmod = filtered_df_10y_qpasture[(filtered_df_10y_qpasture['D_POS2008t'] == 'desmatou após 2008') & (filtered_df_10y_qpasture['SOIL'] == 'SUITABLE TO COCOA')]\n",
    "mun_area_sum_pos2008 = pos2008_deforest_10y_plevmod.groupby(['nome']).sum()\n",
    "mun_area_sum_pos2008_municipalities = pd.merge(mun_area_sum_pos2008, regions_csv, left_on=mun_area_sum_pos2008.index, right_on='Municipalities')\n",
    "mun_area_sum_pos2008_municipalities = mun_area_sum_pos2008_municipalities.sort_values(\"ar_ha_all\", ascending=False)"
   ]
  },
  {
   "cell_type": "code",
   "execution_count": null,
   "id": "bfbe75b9",
   "metadata": {},
   "outputs": [],
   "source": [
    "plot_histo(df=mun_area_sum_pos2008_municipalities, df_area_variable= 'ar_ha_all',colors_dict ={'Nordeste do Pará': 'green', 'Transamazônica': 'brown', 'Sudeste do Pará': 'purple'},\n",
    "           fig_name='10y_plevmod_pos2008', fig_title='Áreas* sem desmatamento últimos 10 anos com pasto leve ou moderado (degrad) com desmatamento pós 2008 e solo adequado por município (ha)', \n",
    "           fig_subtitle='*Área considera imóveis rurais e assentamentos')"
   ]
  },
  {
   "cell_type": "code",
   "execution_count": null,
   "id": "61c0c4e1",
   "metadata": {},
   "outputs": [],
   "source": [
    "ant2008_deforest_10y_plevmod = filtered_df_10y_qpasture[(filtered_df_10y_qpasture['D_ANT2008t'] == 'desmatou antes/até 2008') & (filtered_df_10y_qpasture['SOIL'] == 'SUITABLE TO COCOA')]\n",
    "mun_area_sum_ant2008 = ant2008_deforest_10y_plevmod.groupby(['nome']).sum()\n",
    "mun_area_sum_ant2008_municipalities = pd.merge(mun_area_sum_ant2008, regions_csv, left_on=mun_area_sum_ant2008.index, right_on='Municipalities')\n",
    "mun_area_sum_ant2008_municipalities = mun_area_sum_ant2008_municipalities.sort_values(\"ar_ha_all\", ascending=False)"
   ]
  },
  {
   "cell_type": "code",
   "execution_count": null,
   "id": "e51bc71f",
   "metadata": {},
   "outputs": [],
   "source": [
    "plot_histo(df=mun_area_sum_ant2008_municipalities, df_area_variable= 'ar_ha_all',colors_dict ={'Nordeste do Pará': 'green', 'Transamazônica': 'brown', 'Sudeste do Pará': 'purple'},\n",
    "           fig_name='10y_plevmod_ant2008', fig_title='Áreas* sem desmatamento últimos 10 anos com pasto leve ou moderado (degrad) com desmatamento anterior a 2008 e solo adequado, por município (ha)', \n",
    "           fig_subtitle='*Área considera imóveis rurais e assentamentos')"
   ]
  },
  {
   "cell_type": "code",
   "execution_count": null,
   "id": "970c517d",
   "metadata": {},
   "outputs": [],
   "source": [
    "pos2008_deforest_10y_plevmod"
   ]
  },
  {
   "cell_type": "code",
   "execution_count": null,
   "id": "427f5529",
   "metadata": {},
   "outputs": [],
   "source": [
    "ant2008_deforest_10y_plevmod"
   ]
  },
  {
   "cell_type": "code",
   "execution_count": null,
   "id": "be8aafe7",
   "metadata": {},
   "outputs": [],
   "source": [
    "### FOLIUM HEATMAP"
   ]
  },
  {
   "cell_type": "code",
   "execution_count": null,
   "id": "0bc56e0b",
   "metadata": {},
   "outputs": [],
   "source": [
    "#Load mun aoi to Folium Maps\n",
    "mun_aoi = gpd.read_file(r\"C:\\Users\\guilherme.fronza\\OneDrive\\cacauFlorestaAcelerador\\amazon_acelerador\\04a_dados_espaciais\\02_dados_shp\\db00_escopo_municipio.shp\")"
   ]
  },
  {
   "cell_type": "code",
   "execution_count": null,
   "id": "fe341e93",
   "metadata": {},
   "outputs": [],
   "source": [
    "import base64\n",
    "from folium import IFrame\n",
    "import folium\n",
    "from folium.plugins import HeatMap\n",
    "\n",
    "\n",
    "def heatmap_folium(location, zoom_level, image_ref, title, geodf, mungeodf, html_savename): \n",
    "    #Deforestment after 2008\n",
    "    geodf = geodf.to_crs(\"EPSG:4326\") \n",
    "    geodf['Center_point'] = geodf['geometry'].centroid\n",
    "    #Extract lat and lon from the centerpoint\n",
    "    geodf[\"longitude\"] = geodf.Center_point.map(lambda p: p.x)\n",
    "    geodf[\"latitude\"] = geodf.Center_point.map(lambda p: p.y)\n",
    "    #Set map\n",
    "    map_folium = folium.Map(location=location,\n",
    "                     tiles = \"Stamen Terrain\",   zoom_start =zoom_level) \n",
    "    #insert figure\n",
    "    #encoded = base64.b64encode(open(png, 'rb').read()).decode()\n",
    "    encoded = base64.b64encode(open(image_ref, 'rb').read()).decode()\n",
    "    html = '<img src=\"data:image/png;base64,{}\" width=\"800\" height=\"800\">'.format\n",
    "    resolution, width, height = 5, 250, 250\n",
    "    iframe = IFrame(html(encoded), width=1000, height=1000)\n",
    "    popup = folium.Popup(iframe, max_width=1000)\n",
    "    icon = folium.Icon(color=\"pink\", icon=\"ok\")\n",
    "    marker = folium.Marker(location=location, popup=popup, icon=icon)\n",
    "    map_folium.add_child(marker)\n",
    "\n",
    "    #Define map title\n",
    "    loc = 'Áreas* sem desmatamento últimos 10 anos com pasto leve ou moderado (degrad) com desmatamento pós 2008 e solo adequado por município (ha). Raio = 25 pixels. Áreas = assentamentos e imóveis rurais'\n",
    "    title_html = '''\n",
    "                 <h3 align=\"center\" style=\"font-size:16px\"><b>{}</b></h3>\n",
    "                 '''.format(loc) \n",
    "    #Set title\n",
    "    map_folium.get_root().html.add_child(folium.Element(title_html))\n",
    "\n",
    "    # List comprehension to make out list of lists\n",
    "    heat_data = [[row['latitude'],row['longitude']] for index, row in geodf.iterrows()]\n",
    "\n",
    "    #Polygons plot\n",
    "    for _, r in geodf.iterrows():\n",
    "        # Without simplifying the representation of each poly,\n",
    "        # the map might not be displayed\n",
    "        sim_geo = gpd.GeoSeries(r['geometry']).simplify(tolerance=0.001)\n",
    "        geo_j = sim_geo.to_json()\n",
    "        geo_j = folium.GeoJson(data=geo_j,\n",
    "                               style_function=lambda x: {'fillColor': '#000000', 'fillOpacity': 0, 'weight': 1})\n",
    "        folium.Popup(r['COD_IMOVEL']).add_to(geo_j)\n",
    "        geo_j.add_to(map_folium)\n",
    "\n",
    "    #Municipalities AOI plot\n",
    "    for _, r in mun_aoi.iterrows():\n",
    "        # Without simplifying the representation of each poly,\n",
    "        # the map might not be displayed\n",
    "        sim_geo = gpd.GeoSeries(r['geometry']).simplify(tolerance=0.001)\n",
    "        geo_j = sim_geo.to_json()\n",
    "        geo_j = folium.GeoJson(data=geo_j,\n",
    "                               style_function=lambda x: {'color': 'red', 'fillColor': '#000000', 'fillOpacity': 0})\n",
    "        folium.Popup(r['nome']).add_to(geo_j)\n",
    "        geo_j.add_to(map_folium)\n",
    "\n",
    "\n",
    "    # Plot it on the map\n",
    "    HeatMap(heat_data).add_to(map_folium)\n",
    "\n",
    "    #Display the map\n",
    "    map_folium\n",
    "\n",
    "    #Save map\n",
    "    map_folium.save(html_savename + '.html')\n",
    "    \n",
    "heatmap_folium(location=[-6.256695, -52.614608], zoom_level=8,\n",
    "    image_ref=r\"C:\\Users\\guilherme.fronza\\OneDrive\\cacauFlorestaAcelerador\\amazon_acelerador\\04a_dados_espaciais\\02_dados_scripts\\10y_plevmod_pos2008.png\", \n",
    "    title='Áreas* sem desmatamento últimos 10 anos com pasto leve ou moderado (degrad) com desmatamento pós 2008 e solo adequado por município (ha). Raio = 25 pixels. Áreas = assentamentos e imóveis rurais',\n",
    "       geodf=pos2008_deforest_10y_plevmod, mungeodf=mun_aoi, html_savename='map_pos2008_deforestment_proximity')"
   ]
  },
  {
   "cell_type": "code",
   "execution_count": null,
   "id": "ec0598e4",
   "metadata": {},
   "outputs": [],
   "source": [
    "heatmap_folium(location=[-6.256695, -52.614608], zoom_level=8,\n",
    "    image_ref=r\"C:\\Users\\guilherme.fronza\\OneDrive\\cacauFlorestaAcelerador\\amazon_acelerador\\04a_dados_espaciais\\02_dados_scripts\\10y_plevmod_ant2008.png\", \n",
    "    title='Áreas* sem desmatamento últimos 10 anos com pasto leve ou moderado (degrad) com desmatamento anterior a 2008 e solo adequado, por município (ha). Áreas = assentamentos e imóveis rurais',\n",
    "       geodf=ant2008_deforest_10y_plevmod, mungeodf=mun_aoi, html_savename='map_ant2008_deforestment_proximity')"
   ]
  },
  {
   "cell_type": "code",
   "execution_count": null,
   "id": "c79dfb4b",
   "metadata": {},
   "outputs": [],
   "source": [
    "import pandas as pd\n",
    "import plotly.graph_objects as go\n",
    "import plotly.express as px\n",
    "#!pip install -U kaleido\n",
    "\n",
    "\n",
    "def plotly_heatmap(df,radius, z_weight, fig_name):\n",
    "    plt.figure()\n",
    "    df = df.to_crs(\"EPSG:4326\") \n",
    "    df['Center_point'] = df['geometry'].centroid\n",
    "    #Extract lat and lon from the centerpoint\n",
    "    df[\"longitude\"] = df.Center_point.map(lambda p: p.x)\n",
    "    df[\"latitude\"] = df.Center_point.map(lambda p: p.y)\n",
    "    fig = go.Figure(go.Densitymapbox(lat=df.latitude, lon=df.longitude, \n",
    "                                     z=df[z_weight],\n",
    "                                     radius=radius,\n",
    "                                     #colorscale=[[0.0, 'blue',],[0.3,'lime'],[0.5,'yellow'],[0.7,'orange'],[1.0, 'red']],# custome colorscale\n",
    "                                     zmin=0.0,\n",
    "                                     zmax=10000.0\n",
    "                                    ))\n",
    "    fig.update_layout(mapbox_style=\"stamen-terrain\", mapbox_center_lon=-51.31,mapbox_center_lat=-6.63, mapbox_zoom=6)\n",
    "    fig.update_layout(margin={\"r\":0,\"t\":25,\"l\":0,\"b\":0})\n",
    "    fig.update_layout(autosize=False,\n",
    "        width=1000,\n",
    "        height=1000)\n",
    "    fig.update_layout(\n",
    "    title= fig_name,\n",
    "    xaxis_nticks=36)\n",
    "    fig.show()\n",
    "    fig.write_image(fig_name+\".png\")\n",
    "\n",
    "plotly_heatmap(df=ant2008_deforest_10y_plevmod,radius=15, z_weight='ar_ha_all', fig_name= 'map_plotly_ant2008_defores_radius15_areaz')"
   ]
  },
  {
   "cell_type": "code",
   "execution_count": null,
   "id": "9048a895",
   "metadata": {},
   "outputs": [],
   "source": [
    "plotly_heatmap(df=pos2008_deforest_10y_plevmod,radius=200, z_weight='ar_ha_all', fig_name= 'map_plotly_pos2008_defores_radius200_areaz')"
   ]
  },
  {
   "cell_type": "code",
   "execution_count": null,
   "id": "1cf2de00",
   "metadata": {},
   "outputs": [],
   "source": []
  }
 ],
 "metadata": {
  "kernelspec": {
   "display_name": "ENV1",
   "language": "python",
   "name": "env1"
  },
  "language_info": {
   "codemirror_mode": {
    "name": "ipython",
    "version": 3
   },
   "file_extension": ".py",
   "mimetype": "text/x-python",
   "name": "python",
   "nbconvert_exporter": "python",
   "pygments_lexer": "ipython3",
   "version": "3.9.7"
  }
 },
 "nbformat": 4,
 "nbformat_minor": 5
}
