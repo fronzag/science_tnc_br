{
 "cells": [
  {
   "cell_type": "markdown",
   "id": "f2156c60-6a05-4fe0-b126-b0707197d044",
   "metadata": {},
   "source": [
    "#####           v0 06/06/2022\n",
    "#####           SCIENCE TEAM BRAZIL\n",
    "#####           THE NATURE CONSERVANCY\n",
    "\n",
    "##### FONTE DO DADO: http://siscom.ibama.gov.br/shpsiscom/adm_embargo_a.zip\n",
    "\n",
    "##### JUPYTER NOTEBOOK PARA AUTOMATIZAR A VERIFICAÇÃO DE EMBARGOS IBAMA NA BASE TNC (ACELERADOR, CACAU FLORESTA E SIR)\n"
   ]
  },
  {
   "cell_type": "code",
   "execution_count": null,
   "id": "88d20f1e-8dcc-46f7-b91c-7f352b767f5f",
   "metadata": {},
   "outputs": [],
   "source": [
    "#imports\n",
    "import geopandas as gpd\n",
    "import contextily as cx\n",
    "import matplotlib.pyplot as plt\n",
    "import matplotlib.patches as mpatches\n",
    "from matplotlib.lines import Line2D\n",
    "from matplotlib.offsetbox import AnchoredText\n",
    "\n",
    "#pip installations\n",
    "#!pip install pygeos"
   ]
  },
  {
   "cell_type": "code",
   "execution_count": null,
   "id": "c45bb74e-1a32-4ac4-9d0e-e40f0fcb3042",
   "metadata": {},
   "outputs": [],
   "source": [
    "#create mapbiomas alert geopandas\n",
    "#load mapbiomas alerta layer (initially, using shapefile downloaded in official website\n",
    "zipfile = r\"C:\\Users\\guilherme.fronza\\OneDrive\\temp\\20220603_embargos_ibama\\adm_embargo_a.shp\"\n",
    "embargos_ibama = gpd.read_file(zipfile, encoding='latin1')\n",
    "#crs='epsg:4674' # Sirgas2000 DMS\n",
    "embargos_ibama = embargos_ibama.to_crs(4674)"
   ]
  },
  {
   "cell_type": "code",
   "execution_count": null,
   "id": "ebddb9aa-5522-400e-bbc8-e723d2927c3e",
   "metadata": {},
   "outputs": [],
   "source": [
    "embargos_ibama"
   ]
  },
  {
   "cell_type": "code",
   "execution_count": null,
   "id": "ddfe2ca9-199b-4020-b7cd-b10ebde55b74",
   "metadata": {},
   "outputs": [],
   "source": [
    "def processing_embargos_ibama(shp_path, epsg, mapbiomas_alert_layer):\n",
    "    #albers equal area projstring - IBGE reference\n",
    "    ibge_projstring = '+proj=aea +lat_1=-2 +lat_2=-22 +lat_0=-12 +lon_0=-54 +x_0=0 +y_0=0 +ellps=WGS84 +datum=WGS84 +units=m +no_defs'\n",
    "    \n",
    "    #tnc database preparation\n",
    "    tnc_database = gpd.read_file(shp_path, encoding='utf-8')\n",
    "    tnc_database = tnc_database.to_crs(epsg)\n",
    "    \n",
    "    #first intersection - tnc database alerts\n",
    "    alerts_found = gpd.sjoin(tnc_database, mapbiomas_alert_layer, how='inner', predicate='intersects')\n",
    "    #alerts_found = alerts_found.reset_index()\n",
    "    \n",
    "    #second intersection - mapbiomas layers alerts (to use on plot)\n",
    "    alerts_found_mapbiomas_layer = gpd.sjoin(mapbiomas_alert_layer, tnc_database, how='inner', predicate='intersects')\n",
    "    #alerts_found_mapbiomas_layer = alerts_found_mapbiomas_layer.reset_index()\n",
    "\n",
    "    #third intersection - results - polygons to calculate area in hectars - Albers Equal Area calc\n",
    "    result_intersection_layer = mapbiomas_alert_layer.overlay(tnc_database, how='intersection')\n",
    "    result_intersection_layer = result_intersection_layer.to_crs(ibge_projstring)\n",
    "    result_intersection_layer[\"area_ha\"] = result_intersection_layer['geometry'].area/10000\n",
    "    result_intersection_layer = result_intersection_layer.to_crs(4674)\n",
    "    result_intersection_layer = result_intersection_layer.reset_index()\n",
    "\n",
    "    return alerts_found, alerts_found_mapbiomas_layer, result_intersection_layer\n",
    "\n",
    "\n",
    "def plot_embargos_ibama(df_alert, df_mapbiomas_alerts_layer, df_result_intersect, project_name, mapbiomas_legend_text, tnc_legend_text, date_ext, id_prop_name):\n",
    "    for index, row in df_result_intersect.iterrows():\n",
    "        print(index)\n",
    "        #create figure\n",
    "        figure, ax = plt.subplots(figsize=(15,10), dpi=200)\n",
    "        #set title\n",
    "        ax.set_title('Projeto: '+ project_name + ' | '+ 'Polígonos identificados com interseção nos Embargos IBAMA - Extração ' + date_ext, \n",
    "                     fontdict={'fontsize': 8, 'fontweight': 'medium'})\n",
    "        #geopandas plot per intersect\n",
    "        df_result_intersect.iloc[[index]].plot(ax=ax, color='magenta', edgecolor='magenta', linewidth=2)\n",
    "        \n",
    "        df_alert.plot(ax=ax, color='none', edgecolor='yellow', linewidth=1)\n",
    "        \n",
    "        df_mapbiomas_alerts_layer.plot(ax=ax, color='none', edgecolor='red', linewidth=1)\n",
    "        \n",
    "        df_result_intersect['geometry_buffer'] = df_result_intersect.geometry.buffer(0.02)\n",
    "        #min max settings\n",
    "        minx, miny, maxx, maxy = df_result_intersect.iloc[[index]].geometry_buffer.total_bounds\n",
    "        ax.set_xlim(minx, maxx)\n",
    "        ax.set_ylim(miny, maxy)\n",
    "        #basemap plot\n",
    "        cx.add_basemap(ax, crs= df_result_intersect.crs.to_string(), source = cx.providers.Esri.WorldImagery)\n",
    "        #area alerta\n",
    "        alert_area = str(df_result_intersect.area_ha.iloc[index].round(2))\n",
    "        #legend build\n",
    "        mapbiomas_legend = Line2D([0], [0], label=mapbiomas_legend_text, color='red')\n",
    "        tnc_database_legend = Line2D([0], [0], label=tnc_legend_text, color='yellow')\n",
    "        intersection_tnc_legenda = Line2D([0], [0], label=str('Área de interseção: ' + alert_area + ' ha') , color='magenta')\n",
    "        ax.legend(handles=[mapbiomas_legend,tnc_database_legend,intersection_tnc_legenda])\n",
    "        \n",
    "        #codigos de identificação\n",
    "        id_prop = str('Nome: ' + df_result_intersect[id_prop_name].iloc[index])\n",
    "        data_detec = str('Data Tad.: '+ df_result_intersect.data_tad.iloc[index])\n",
    "        #vpressao = str('Pressão : '+ df_result_intersect.VPressao.iloc[index])\n",
    "        \n",
    "        # text anchor\n",
    "        at = AnchoredText(\n",
    "            {id_prop, data_detec}, prop=dict(size=8), frameon=True, loc='lower left')\n",
    "        at.patch.set_boxstyle(\"round,pad=0.,rounding_size=0.2\")\n",
    "        ax.add_artist(at)\n",
    "        #plt.text(0.5, 0.5, 'Some text', transform=ax.transAxes)\n",
    "        plt.savefig(df_result_intersect[id_prop_name].iloc[index] + '_' + date_ext + '_idx'+ str(index+1)+'.png', dpi=200)\n",
    "        plt.close(figure)"
   ]
  },
  {
   "cell_type": "code",
   "execution_count": null,
   "id": "7efa6b5a-23af-4a66-95b5-074acb56ccaa",
   "metadata": {},
   "outputs": [],
   "source": [
    "# #RUN AMAZON ACELERATOR\n",
    "alerts_found_embibama_ARA, alerts_found_embibama_layer_ARA, result_intersection_embibama_ARA = processing_embargos_ibama(shp_path=r\"C:\\Users\\guilherme.fronza\\OneDrive\\temp\\202203_acelerador_dbase\\ippara_ara_base_de_dados_v20220428_IR.shp\",\n",
    "        epsg=4674, mapbiomas_alert_layer=embargos_ibama)"
   ]
  },
  {
   "cell_type": "code",
   "execution_count": null,
   "id": "6dd13e74-eed1-4156-b1d4-67afb1195648",
   "metadata": {},
   "outputs": [],
   "source": [
    "#export to xlsx\n",
    "result_intersection_layer_ARA.to_excel(r'result_intersection_layer_ARA.xlsx', index = False)"
   ]
  },
  {
   "cell_type": "code",
   "execution_count": null,
   "id": "686acdb5-0c59-431d-9918-6a46a58db9ec",
   "metadata": {},
   "outputs": [],
   "source": [
    "#PLOT AMAZON ACELERATOR ALERTS    \n",
    "plot_embargos_ibama(df_alert=alerts_found_embibama_ARA, \n",
    "                 df_mapbiomas_alerts_layer=alerts_found_embibama_layer_ARA,\n",
    "                 df_result_intersect=result_intersection_embibama_ARA,\n",
    "                 project_name= 'Acelerador TNC', \n",
    "                 mapbiomas_legend_text='Embargos Ibama - polígonos',\n",
    "                 tnc_legend_text='Base de dados TNC', \n",
    "                 date_ext= '2022607',\n",
    "                 id_prop_name='Name')"
   ]
  },
  {
   "cell_type": "code",
   "execution_count": null,
   "id": "a8d12657-8e2a-489d-a48f-bc94ea06dc0c",
   "metadata": {},
   "outputs": [],
   "source": [
    "#RUN COCOA FOREST PROJECT \n",
    "alerts_found_embibama_CF, alerts_found_embibama_layer_CF, result_intersection_embibama_CF = processing_embargos_ibama(shp_path=r\"C:\\Users\\guilherme.fronza\\OneDrive\\temp\\202203_cacau_floresta_dbase\\pa_cacauflor_propriedades_202203.shp\",\n",
    "        epsg=4674, mapbiomas_alert_layer=embargos_ibama)"
   ]
  },
  {
   "cell_type": "code",
   "execution_count": null,
   "id": "a01f5a84-5a02-417e-9d17-311e635d8581",
   "metadata": {},
   "outputs": [],
   "source": [
    "#export to xlsx\n",
    "result_intersection_embibama_CF.to_excel(r'result_intersection_embibama_CF.xlsx', index = False)"
   ]
  },
  {
   "cell_type": "code",
   "execution_count": null,
   "id": "5b035aab-5e0f-4e64-abd0-b8e0cfb18a29",
   "metadata": {},
   "outputs": [],
   "source": [
    "#PLOT COCOA FOREST ALERTS        \n",
    "plot_embargos_ibama(df_alert=alerts_found_embibama_CF, \n",
    "                 df_mapbiomas_alerts_layer=alerts_found_embibama_layer_CF,\n",
    "                 df_result_intersect=result_intersection_embibama_CF,\n",
    "                 project_name= 'COCOA FOREST', \n",
    "                 mapbiomas_legend_text='Embargos Ibama - polígonos',\n",
    "                 tnc_legend_text='Base de dados TNC', \n",
    "                 date_ext= '2022608',\n",
    "                 id_prop_name='Name')"
   ]
  },
  {
   "cell_type": "code",
   "execution_count": null,
   "id": "49551928-6b98-4b18-8965-d24589ad1183",
   "metadata": {},
   "outputs": [],
   "source": [
    "#RUN SIR POLYGONS\n",
    "alerts_found_embibama_SIR, alerts_found_embibama_layer_SIR, result_intersection_embibama_SIR = processing_embargos_ibama(shp_path=r\"C:\\Users\\guilherme.fronza\\OneDrive\\sir\\sir_202104\\shp_download.shp\",\n",
    "        epsg=4674, mapbiomas_alert_layer=embargos_ibama)"
   ]
  },
  {
   "cell_type": "code",
   "execution_count": null,
   "id": "283b2dea-c5f5-4ee7-9e50-cdf7c468bb7f",
   "metadata": {},
   "outputs": [],
   "source": [
    "#export to xlsx\n",
    "result_intersection_embibama_SIR.to_excel(r'result_intersection_embibama_SIR.xlsx', index = False)"
   ]
  },
  {
   "cell_type": "code",
   "execution_count": null,
   "id": "26e7b003-c08c-4c6b-9581-7c61e1235b01",
   "metadata": {},
   "outputs": [],
   "source": [
    "#PROPRIETAR None to str SEM_NOME \n",
    "result_intersection_embibama_SIR.loc[result_intersection_embibama_SIR['PROPRIETAR'].isnull(), 'PROPRIETAR'] = 'SEM_NOME'"
   ]
  },
  {
   "cell_type": "code",
   "execution_count": null,
   "id": "4414f183-acf0-4072-8f9d-ff8de2ac205f",
   "metadata": {},
   "outputs": [],
   "source": [
    "#PLOT SIR ALERTS     \n",
    "plot_embargos_ibama(df_alert=alerts_found_embibama_SIR, \n",
    "                 df_mapbiomas_alerts_layer=alerts_found_embibama_layer_SIR,\n",
    "                 df_result_intersect=result_intersection_embibama_SIR,\n",
    "                 project_name= 'SIR TNC', \n",
    "                 mapbiomas_legend_text='Embargos Ibama - polígonos',\n",
    "                 tnc_legend_text='Base de dados TNC', \n",
    "                 date_ext= '2022608',\n",
    "                 id_prop_name='PROPRIETAR')"
   ]
  },
  {
   "cell_type": "code",
   "execution_count": null,
   "id": "21cf008b-fda7-4851-836e-79e7db778b44",
   "metadata": {},
   "outputs": [],
   "source": []
  }
 ],
 "metadata": {
  "kernelspec": {
   "display_name": "env3",
   "language": "python",
   "name": "env3"
  },
  "language_info": {
   "codemirror_mode": {
    "name": "ipython",
    "version": 3
   },
   "file_extension": ".py",
   "mimetype": "text/x-python",
   "name": "python",
   "nbconvert_exporter": "python",
   "pygments_lexer": "ipython3",
   "version": "3.9.11"
  }
 },
 "nbformat": 4,
 "nbformat_minor": 5
}
