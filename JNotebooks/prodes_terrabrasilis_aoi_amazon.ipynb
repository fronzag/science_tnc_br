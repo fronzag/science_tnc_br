{
 "cells": [
  {
   "cell_type": "code",
   "execution_count": null,
   "id": "832e4a0d-f49b-409f-86c1-f0b91100c88a",
   "metadata": {},
   "outputs": [],
   "source": [
    "import pandas as pd\n",
    "import geopandas as gpd"
   ]
  },
  {
   "cell_type": "code",
   "execution_count": null,
   "id": "5c512be9-5197-42c9-95e5-4eccd463b8ab",
   "metadata": {},
   "outputs": [],
   "source": [
    "data_prodes = pd.read_csv(r\"C:\\Users\\guilherme.fronza\\OneDrive\\cacauFlorestaAcelerador\\amazon_acelerador\\04a_dados_espaciais\\02_dados_scripts\\source\\terrabrasilis_legal_amazon_12_2_2022_1647119577066.csv\") \n",
    "data_prodes"
   ]
  },
  {
   "cell_type": "code",
   "execution_count": null,
   "id": "3095f1a5-1008-424c-afb6-cf52c31e3f92",
   "metadata": {},
   "outputs": [],
   "source": [
    "data_prodes['year'].unique()"
   ]
  },
  {
   "cell_type": "code",
   "execution_count": null,
   "id": "6ca0cae1-5a34-4b22-9b37-f94595d1141a",
   "metadata": {},
   "outputs": [],
   "source": [
    "regions_csv = pd.read_csv(r\"C:\\Users\\guilherme.fronza\\OneDrive\\cacauFlorestaAcelerador\\amazon_acelerador\\04a_dados_espaciais\\02_dados_referencia\\Regioes_AOI\\regions_utf8.csv\",\n",
    "                          encoding='utf-8', sep=';')\n",
    "regions_csv"
   ]
  },
  {
   "cell_type": "code",
   "execution_count": null,
   "id": "1f6d5ff5-9f17-462c-aff9-ecc7a8a274eb",
   "metadata": {},
   "outputs": [],
   "source": [
    "mun_AOI = gpd.read_file(r\"C:\\Users\\guilherme.fronza\\OneDrive\\cacauFlorestaAcelerador\\amazon_acelerador\\04a_dados_espaciais\\02_dados_shp\\db00_escopo_municipio.shp\")\n",
    "mun_AOI"
   ]
  },
  {
   "cell_type": "code",
   "execution_count": null,
   "id": "f1f96b03-9261-44f7-b93f-0ed32ef4f3ee",
   "metadata": {},
   "outputs": [],
   "source": [
    "array_AOI = mun_AOI['geocod_n'].to_numpy()\n",
    "data_prodes_AOI = data_prodes.loc[data_prodes['geocode_ibge'].isin(array_AOI)]\n",
    "data_prodes_AOI"
   ]
  },
  {
   "cell_type": "code",
   "execution_count": null,
   "id": "429a5ecc-f1a4-4388-84b4-bc5fc7d2a769",
   "metadata": {},
   "outputs": [],
   "source": [
    "data_prodes_AOI['municipality'].nunique()"
   ]
  },
  {
   "cell_type": "code",
   "execution_count": null,
   "id": "6db2b9c8-e141-451f-aee6-f2442fc7e41d",
   "metadata": {},
   "outputs": [],
   "source": [
    "data_prodes_AOI_regions = pd.merge(data_prodes_AOI, regions_csv, left_on='geocode_ibge', right_on='Geocodg_n')\n",
    "data_prodes_AOI_regions"
   ]
  },
  {
   "cell_type": "code",
   "execution_count": null,
   "id": "399ee3da-33ad-451d-877c-96e0ae774da3",
   "metadata": {},
   "outputs": [],
   "source": [
    "data_prodes_AOI_regions['area_ha'] = data_prodes_AOI_regions['areakm'].multiply(100)\n",
    "data_prodes_AOI_regions"
   ]
  },
  {
   "cell_type": "code",
   "execution_count": null,
   "id": "cdc7ec49-ed74-40aa-b21d-98aa203965e5",
   "metadata": {},
   "outputs": [],
   "source": [
    "data_prodes_AOI_regions_2007_2008 = data_prodes_AOI_regions[(data_prodes_AOI_regions['year'] == 2007) | (data_prodes_AOI_regions['year'] == 2008)]\n"
   ]
  },
  {
   "cell_type": "code",
   "execution_count": null,
   "id": "72019063-b880-488d-86d8-cafbfafb0abb",
   "metadata": {},
   "outputs": [],
   "source": [
    "data_prodes_AOI_regions_2007_2008[data_prodes_AOI_regions_2007_2008['municipality'] == 'ALTAMIRA']"
   ]
  },
  {
   "cell_type": "code",
   "execution_count": null,
   "id": "cd4f13b9-8fea-48e5-a2a0-30f94e0b8612",
   "metadata": {},
   "outputs": [],
   "source": [
    "mun_2007_2008 = data_prodes_AOI_regions_2007_2008.groupby(['Municipalities']).sum()\n",
    "mun_2007_2008 = pd.merge(mun_2007_2008, regions_csv, left_on='Municipalities', right_on='Municipalities')\n",
    "mun_2007_2008"
   ]
  },
  {
   "cell_type": "code",
   "execution_count": null,
   "id": "d23e0cbc-5c42-4a4c-80a5-38e05534092e",
   "metadata": {},
   "outputs": [],
   "source": [
    "import geopandas as gpd\n",
    "import pandas as pd\n",
    "import matplotlib.pyplot as plt\n",
    "import numpy as np\n",
    "#pip uninstall rtree (spatial index error)\n",
    "\n",
    "def plot_histo(df, df_area_variable, colors_dict,  fig_name, fig_title, fig_subtitle, region):\n",
    "    df = df.sort_values(df_area_variable, ascending=True)\n",
    "    fig, ax = plt.subplots(figsize=(20,20), dpi=100)\n",
    "    # Set the colors\n",
    "    colors = colors_dict\n",
    "    # create ax\n",
    "    ax = df[df_area_variable].plot.barh(width=1, color=[colors[i] for i in df[region]])\n",
    "    ax.get_xaxis().get_major_formatter().set_scientific(False)\n",
    "    #title and suptitle\n",
    "    plt.suptitle(fig_title, fontsize=15, y=0.91)\n",
    "    plt.title(fig_subtitle,fontsize=10)\n",
    "    #plt ylabel with municipalities\n",
    "    yPos = np.arange(len(df.Municipalities))\n",
    "    plt.yticks(yPos, (df.Municipalities))\n",
    "    #plot colors\n",
    "    labels = list(colors.keys())\n",
    "    handles = [plt.Rectangle((0,0),1,1, color=colors[label]) for label in labels]\n",
    "    plt.legend(handles, labels)\n",
    "    #ax.bar_label(ax.containers[0])\n",
    "    plt.savefig(fig_name + '.png', dpi=300)\n",
    "    plt.show()\n"
   ]
  },
  {
   "cell_type": "code",
   "execution_count": null,
   "id": "02f099e6-34cd-4be6-80ea-feea3a71d6e7",
   "metadata": {},
   "outputs": [],
   "source": [
    "plot_histo(df=mun_2007_2008, df_area_variable= 'area_ha',colors_dict ={'Nordeste do Pará': 'green', 'Transamazônica': 'brown', 'Sudeste do Pará': 'purple'},\n",
    "           fig_name='PRODES_desmat_AOI_ate_2008', fig_title='Municipíos que mais desmataram (ha) na AOI até 2008, considerando dados PRODES - TerraBrasilis', \n",
    "           fig_subtitle='Dados PRODES extraídos do site http://terrabrasilis.dpi.inpe.br/app/dashboard/deforestation/biomes/legal_amazon/rates', region='Region')"
   ]
  },
  {
   "cell_type": "code",
   "execution_count": null,
   "id": "1866d4fd-e793-4804-9f0c-12b1d1ad59c1",
   "metadata": {},
   "outputs": [],
   "source": [
    "data_prodes_AOI_regions_2009_2021 = data_prodes_AOI_regions[(data_prodes_AOI_regions['year'] == 2009) | (data_prodes_AOI_regions['year'] == 2010) | (data_prodes_AOI_regions['year'] == 2011) \n",
    "                             | (data_prodes_AOI_regions['year'] == 2012)  | (data_prodes_AOI_regions['year'] == 2013)  | (data_prodes_AOI_regions['year'] == 2014)\n",
    "                             | (data_prodes_AOI_regions['year'] == 2015)  | (data_prodes_AOI_regions['year'] == 2016)  | (data_prodes_AOI_regions['year'] == 2017) \n",
    "                             | (data_prodes_AOI_regions['year'] == 2018)  | (data_prodes_AOI_regions['year'] == 2019)  | (data_prodes_AOI_regions['year'] == 2020)\n",
    "                             | (data_prodes_AOI_regions['year'] == 2021)]"
   ]
  },
  {
   "cell_type": "code",
   "execution_count": null,
   "id": "405bf5f0-8a1e-4e21-b392-579852d97002",
   "metadata": {},
   "outputs": [],
   "source": [
    "data_prodes_AOI_regions_2009_2021['year'].unique()"
   ]
  },
  {
   "cell_type": "code",
   "execution_count": null,
   "id": "371a882e-0595-4861-8297-eed83f2299c7",
   "metadata": {},
   "outputs": [],
   "source": [
    "data_prodes_AOI_regions_2009_2021[data_prodes_AOI_regions_2009_2021['municipality'] == 'VIGIA']"
   ]
  },
  {
   "cell_type": "code",
   "execution_count": null,
   "id": "56b8a3ae-0b23-463b-a1f2-dfe8dd82c983",
   "metadata": {},
   "outputs": [],
   "source": [
    "mun_2009_2021 = data_prodes_AOI_regions_2009_2021.groupby(['Municipalities']).sum()\n",
    "mun_2009_2021"
   ]
  },
  {
   "cell_type": "code",
   "execution_count": null,
   "id": "a158a909-bd31-4aca-9d47-eeb50fb10e6c",
   "metadata": {},
   "outputs": [],
   "source": [
    "mun_2009_2021 = pd.merge(mun_2009_2021, regions_csv, left_on='Municipalities', right_on='Municipalities')\n",
    "mun_2009_2021"
   ]
  },
  {
   "cell_type": "code",
   "execution_count": null,
   "id": "94c65e18-0255-4bab-b9a8-70956b6861ac",
   "metadata": {},
   "outputs": [],
   "source": [
    "plot_histo(df=mun_2009_2021, df_area_variable= 'area_ha',colors_dict= {'Nordeste do Pará': 'green', 'Transamazônica': 'brown', 'Sudeste do Pará': 'purple'},\n",
    "           fig_name= 'PRODES_desmat_AOI_2009_2021', fig_title= 'Municipíos que mais desmataram (ha) na AOI a partir de 2008, considerando dados PRODES - TerraBrasilis', \n",
    "           fig_subtitle= 'Dados PRODES extraídos do site http://terrabrasilis.dpi.inpe.br/app/dashboard/deforestation/biomes/legal_amazon/rates', region='Region_y')"
   ]
  },
  {
   "cell_type": "code",
   "execution_count": null,
   "id": "ba2d728c-1503-4d2c-9de4-3df381a40b76",
   "metadata": {},
   "outputs": [],
   "source": []
  }
 ],
 "metadata": {
  "kernelspec": {
   "display_name": "ENV1",
   "language": "python",
   "name": "env1"
  },
  "language_info": {
   "codemirror_mode": {
    "name": "ipython",
    "version": 3
   },
   "file_extension": ".py",
   "mimetype": "text/x-python",
   "name": "python",
   "nbconvert_exporter": "python",
   "pygments_lexer": "ipython3",
   "version": "3.9.7"
  }
 },
 "nbformat": 4,
 "nbformat_minor": 5
}
