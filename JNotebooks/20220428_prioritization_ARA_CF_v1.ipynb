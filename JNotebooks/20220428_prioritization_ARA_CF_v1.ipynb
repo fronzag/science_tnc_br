{
 "cells": [
  {
   "cell_type": "markdown",
   "id": "96f43439-d799-4a8d-a2cb-4a518ba9d76c",
   "metadata": {},
   "source": [
    "### 28/04/2022 TNC Science Team\n",
    "#### Priorization dataset manipulation to Cocoa Forest Project and Accelerator Project\n"
   ]
  },
  {
   "cell_type": "code",
   "execution_count": null,
   "id": "421c0a7a-ae08-42ba-a11e-65fe85f0c07f",
   "metadata": {},
   "outputs": [],
   "source": [
    "import geopandas as gpd"
   ]
  },
  {
   "cell_type": "code",
   "execution_count": null,
   "id": "b97469da-fe5d-4a04-813e-e60149f602fa",
   "metadata": {},
   "outputs": [],
   "source": [
    "#COCOA FOREST DATASET - no deforesting after 2018 (4 YEARS) and light/moderate degraded pasture quality\n",
    "cocoa_forest_ds = r\"C:\\Users\\guilherme.fronza\\OneDrive\\cacauFlorestaAcelerador\\amazon_acelerador\\04a_dados_espaciais\\02a_dados_automacao\\DB_4YEARS_PLEVMOD_CF.shp\"\n",
    "cocoa_forest_ds = gpd.read_file(cocoa_forest_ds, encoding='utf-8')\n",
    "cocoa_forest_ds.columns"
   ]
  },
  {
   "cell_type": "code",
   "execution_count": null,
   "id": "b46ba629-e699-487b-8475-a436c20fd4d0",
   "metadata": {},
   "outputs": [],
   "source": [
    "cocoa_forest_ds['meso'].unique()"
   ]
  },
  {
   "cell_type": "code",
   "execution_count": null,
   "id": "9af71caf-4528-436a-958e-9a80f2ea8ac9",
   "metadata": {},
   "outputs": [],
   "source": [
    "#southeast filter\n",
    "#cocoa_forest_ds = cocoa_forest_ds[cocoa_forest_ds['meso'] == 'Sudoeste Paraense']\n",
    "\n",
    "#transamazon filter\n",
    "#cocoa_forest_ds = cocoa_forest_ds.loc[cocoa_forest_ds['meso'].isin(['Sudoeste Paraense','Baixo Amazonas'])]\n",
    "\n",
    "#northeast filter\n",
    "#cocoa_forest_ds = cocoa_forest_ds[cocoa_forest_ds['meso'] == 'Nordeste Paraense']"
   ]
  },
  {
   "cell_type": "code",
   "execution_count": null,
   "id": "c5fc8849-5941-4f23-a153-3edc893ecf8b",
   "metadata": {},
   "outputs": [],
   "source": [
    "cocoa_forest_ds['nome'].unique()"
   ]
  },
  {
   "cell_type": "code",
   "execution_count": null,
   "id": "57b4c8f2-3cc3-4814-bad5-32a977bcf5bb",
   "metadata": {},
   "outputs": [],
   "source": [
    "#count rows - potential areas count\n",
    "len(cocoa_forest_ds.index)"
   ]
  },
  {
   "cell_type": "code",
   "execution_count": null,
   "id": "b815e129-16d2-4cdd-bcef-543f1f5dec82",
   "metadata": {},
   "outputs": [],
   "source": [
    "# create an Empty pandas DataFrame with column names indices \n",
    "df_output = pd.DataFrame(columns = ['Number of settlements', 'Number of families', 'Capacity of settlements', 'Number of rural properties', 'Total potential area(ha)'], \n",
    "                   index = ['Cocoa Forest Project', 'Accelerator Project'])"
   ]
  },
  {
   "cell_type": "code",
   "execution_count": null,
   "id": "79b596ee-dbe3-4bcd-82ba-cf4105583aee",
   "metadata": {},
   "outputs": [],
   "source": [
    "#count rural properties available\n",
    "df_assent = cocoa_forest_ds[cocoa_forest_ds.COD_IMOVEL != 'Assentamento']\n",
    "df_assent['COD_IMOVEL'].nunique()\n",
    "df_output.loc['Cocoa Forest Project', 'Number of rural properties'] = df_assent['COD_IMOVEL'].nunique()"
   ]
  },
  {
   "cell_type": "code",
   "execution_count": null,
   "id": "7a24ccad-e4a5-41eb-a8b2-646e600e54b2",
   "metadata": {},
   "outputs": [],
   "source": [
    "#sum potential area (total) - hectares\n",
    "df_output.loc['Cocoa Forest Project', 'Total potential area(ha)'] = cocoa_forest_ds['ar_ha_all'].sum().round()"
   ]
  },
  {
   "cell_type": "code",
   "execution_count": null,
   "id": "4fda1cc8-f754-4ac4-9e87-62998b4f8bef",
   "metadata": {},
   "outputs": [],
   "source": [
    "#count settlements unique (availables)\n",
    "df_output.loc['Cocoa Forest Project', 'Number of settlements'] = cocoa_forest_ds.nome_proje.nunique(dropna=True)"
   ]
  },
  {
   "cell_type": "code",
   "execution_count": null,
   "id": "a35e1132-8db1-4ea3-a04e-a403fc0169a9",
   "metadata": {},
   "outputs": [],
   "source": [
    "# Considering certain columns for dropping duplicates\n",
    "settlements_CF = cocoa_forest_ds.drop_duplicates(subset=['nome_proje'])\n",
    "settlements_CF = settlements_CF.dropna(subset=['nome_proje'])"
   ]
  },
  {
   "cell_type": "code",
   "execution_count": null,
   "id": "f74402df-1ba6-47f4-a010-5c2fdc55a193",
   "metadata": {},
   "outputs": [],
   "source": [
    "#count number of families\n",
    "df_output.loc['Cocoa Forest Project', 'Number of families'] = settlements_CF['num_famili'].sum()"
   ]
  },
  {
   "cell_type": "code",
   "execution_count": null,
   "id": "c27269e4-d399-4f0f-b24c-0ef6be8f79b2",
   "metadata": {},
   "outputs": [],
   "source": [
    "#count capacity of settlements (max. families)\n",
    "df_output.loc['Cocoa Forest Project', 'Capacity of settlements'] = settlements_CF['capacidade'].sum()"
   ]
  },
  {
   "cell_type": "code",
   "execution_count": null,
   "id": "9fc74bd0-4316-4090-8d90-b4172f95082f",
   "metadata": {},
   "outputs": [],
   "source": [
    "df_output"
   ]
  },
  {
   "cell_type": "code",
   "execution_count": null,
   "id": "70620c2e-16f0-4e63-b706-96cc3ece7406",
   "metadata": {},
   "outputs": [],
   "source": [
    "#ACCELERATOR DATASET - no deforesting after 2012 (10 YEARS) and light/moderate degraded pasture quality\n",
    "accelerator_ds = r\"C:\\Users\\guilherme.fronza\\OneDrive\\cacauFlorestaAcelerador\\amazon_acelerador\\04a_dados_espaciais\\02a_dados_automacao\\DB_10YEARS_PLEVMOD_AWS.shp\"\n",
    "accelerator_ds = gpd.read_file(accelerator_ds, encoding='utf-8')\n",
    "accelerator_ds.columns"
   ]
  },
  {
   "cell_type": "code",
   "execution_count": null,
   "id": "a0b6cbc4-515d-4d23-afc7-5be862462cf2",
   "metadata": {},
   "outputs": [],
   "source": [
    "#southeast filter\n",
    "#accelerator_ds = accelerator_ds[accelerator_ds['meso'] == 'Sudeste Paraense']\n",
    "\n",
    "#transamazon filter\n",
    "#accelerator_ds = accelerator_ds.loc[accelerator_ds['meso'].isin(['Sudoeste Paraense','Baixo Amazonas'])]\n",
    "\n",
    "#northeast filter\n",
    "#accelerator_ds = accelerator_ds[accelerator_ds['meso'] == 'Nordeste Paraense']"
   ]
  },
  {
   "cell_type": "code",
   "execution_count": null,
   "id": "c40c49d1-7129-4493-b797-a282aeadb627",
   "metadata": {},
   "outputs": [],
   "source": [
    "accelerator_ds['nome'].unique()"
   ]
  },
  {
   "cell_type": "code",
   "execution_count": null,
   "id": "536bb725-6e11-419d-a934-8cdbb5b3338f",
   "metadata": {},
   "outputs": [],
   "source": [
    "#count rows - potential areas count\n",
    "len(accelerator_ds.index)"
   ]
  },
  {
   "cell_type": "code",
   "execution_count": null,
   "id": "bc3ef05f-86f2-46a8-8707-108710c57d38",
   "metadata": {},
   "outputs": [],
   "source": [
    "#count rural properties available\n",
    "df_assent = accelerator_ds[accelerator_ds.COD_IMOVEL != 'Assentamento']\n",
    "df_assent['COD_IMOVEL'].nunique()"
   ]
  },
  {
   "cell_type": "code",
   "execution_count": null,
   "id": "227462ed-0c0c-452a-a2fc-dbd744e8234c",
   "metadata": {},
   "outputs": [],
   "source": [
    "df_output.loc['Accelerator Project', 'Number of rural properties'] = df_assent['COD_IMOVEL'].nunique()"
   ]
  },
  {
   "cell_type": "code",
   "execution_count": null,
   "id": "1c715dce-c0f4-44b2-9059-93e42299c8e9",
   "metadata": {},
   "outputs": [],
   "source": [
    "#sum potential area (total) - hectares\n",
    "df_output.loc['Accelerator Project', 'Total potential area(ha)'] = accelerator_ds['ar_ha_all'].sum().round()"
   ]
  },
  {
   "cell_type": "code",
   "execution_count": null,
   "id": "c6a260e8-49d7-4aa1-acda-bd08ac1de643",
   "metadata": {},
   "outputs": [],
   "source": [
    "#count settlements unique (availables)\n",
    "df_output.loc['Accelerator Project', 'Number of settlements'] = accelerator_ds.nome_proje.nunique(dropna=True)"
   ]
  },
  {
   "cell_type": "code",
   "execution_count": null,
   "id": "bc03e106-4d80-49cb-9c0d-3840820bf1a5",
   "metadata": {},
   "outputs": [],
   "source": [
    "# Considering certain columns for dropping duplicates\n",
    "settlements_ARA = accelerator_ds.drop_duplicates(subset=['nome_proje'])\n",
    "settlements_ARA = settlements_ARA.dropna(subset=['nome_proje'])"
   ]
  },
  {
   "cell_type": "code",
   "execution_count": null,
   "id": "df0e7114-9f5a-4093-a4ad-ca4269ba760b",
   "metadata": {},
   "outputs": [],
   "source": [
    "#count number of families\n",
    "df_output.loc['Accelerator Project', 'Number of families'] = settlements_ARA['num_famili'].sum()"
   ]
  },
  {
   "cell_type": "code",
   "execution_count": null,
   "id": "82e2bc38-21a9-45b7-8f3b-e9e80f4c8c5b",
   "metadata": {},
   "outputs": [],
   "source": [
    "#count capacity of settlements (max. families)\n",
    "df_output.loc['Accelerator Project', 'Capacity of settlements'] = settlements_ARA['capacidade'].sum()"
   ]
  },
  {
   "cell_type": "code",
   "execution_count": null,
   "id": "31d37e86-9b23-4744-a097-fee0a1dcd590",
   "metadata": {},
   "outputs": [],
   "source": [
    "df_output"
   ]
  },
  {
   "cell_type": "code",
   "execution_count": null,
   "id": "f7d415ef-a12c-4934-9a51-8bd5607b2b7c",
   "metadata": {},
   "outputs": [],
   "source": [
    "#export pandas to excel - to verify columns and numbers\n",
    "df_output.to_excel(\"df_output.xlsx\")  "
   ]
  },
  {
   "cell_type": "code",
   "execution_count": null,
   "id": "55234fe8-21d8-459c-9050-3c2632ceb295",
   "metadata": {},
   "outputs": [],
   "source": []
  }
 ],
 "metadata": {
  "kernelspec": {
   "display_name": "env3",
   "language": "python",
   "name": "env3"
  },
  "language_info": {
   "codemirror_mode": {
    "name": "ipython",
    "version": 3
   },
   "file_extension": ".py",
   "mimetype": "text/x-python",
   "name": "python",
   "nbconvert_exporter": "python",
   "pygments_lexer": "ipython3",
   "version": "3.9.11"
  }
 },
 "nbformat": 4,
 "nbformat_minor": 5
}
