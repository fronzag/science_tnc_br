{
 "cells": [
  {
   "cell_type": "markdown",
   "id": "d0853ac8",
   "metadata": {},
   "source": [
    "#### beta 12/01/2022 \n",
    "#### v0 15/02/2022\n",
    "#### SCIENCE TEAM\n",
    "#### THE NATURE CONSERVANCY\n",
    "\n",
    "\n",
    "\n",
    "\n",
    "### JUPYTER NOTEBOOK TO AUTOMATIZE AMAZON SELECTION/PRIORITIZATION AREAS\n",
    "\n",
    "##### TNC SCIENCE TEAM EFFORT TO SCRIPT DATA PROCESSING"
   ]
  },
  {
   "cell_type": "markdown",
   "id": "fc2496ea",
   "metadata": {},
   "source": [
    "##### data description here"
   ]
  },
  {
   "cell_type": "code",
   "execution_count": null,
   "id": "a202978e",
   "metadata": {},
   "outputs": [],
   "source": [
    "#Python ArcGIS import\n",
    "import arcpy"
   ]
  },
  {
   "cell_type": "code",
   "execution_count": null,
   "id": "22a85a97",
   "metadata": {},
   "outputs": [],
   "source": [
    "#Reproject TNC CAR dataset 2021\n",
    "arcpy.management.Project(\"_15m_limite_imoveis_car_sicar_sem_sobrep\", \n",
    "                         r\"C:\\Users\\guilherme.fronza\\OneDrive\\cacauFlorestaAcelerador\\amazon_acelerador\\04a_dados_espaciais\\02_dados_automacao\\CAR_SEM_SOBREP_TNC_2021_AEA\", \n",
    "                         'PROJCS[\"Albers_Conic_Equal_Area\",GEOGCS[\"GCS_WGS_1984\",DATUM[\"D_WGS_1984\",SPHEROID[\"WGS_1984\",6378137.0,298.257223563]],PRIMEM[\"Greenwich\",0.0],UNIT[\"Degree\",0.0174532925199433]],PROJECTION[\"Albers\"],PARAMETER[\"False_Easting\",0.0],PARAMETER[\"False_Northing\",0.0],PARAMETER[\"Central_Meridian\",-54.0],PARAMETER[\"Standard_Parallel_1\",-2.0],PARAMETER[\"Standard_Parallel_2\",-22.0],PARAMETER[\"Latitude_Of_Origin\",-12.0],UNIT[\"Meter\",1.0]]', \n",
    "                         None, 'GEOGCS[\"SIRGAS 2000\",DATUM[\"Sistema_de_Referencia_Geocentrico_para_America_del_Sur_2000\",SPHEROID[\"GRS 1980\",6378137.0,298.257222101]],PRIMEM[\"Greenwich\",0.0],UNIT[\"degree\",0.0174532925199433]]', \"NO_PRESERVE_SHAPE\",\n",
    "                         None, \"NO_VERTICAL\")\n",
    "\n",
    "#Reproject TNC settlements outside Conservation units dataset 2021\n",
    "arcpy.management.Project(\"Assentamento_Brasil_sem_UC\", \n",
    "                        r\"C:\\Users\\guilherme.fronza\\OneDrive\\cacauFlorestaAcelerador\\amazon_acelerador\\04a_dados_espaciais\\02_dados_automacao\\Assentamento_Brasil_sem_UC_AEA\", \n",
    "                         'PROJCS[\"Albers_Conic_Equal_Area\",GEOGCS[\"GCS_WGS_1984\",DATUM[\"D_WGS_1984\",SPHEROID[\"WGS_1984\",6378137.0,298.257223563]],PRIMEM[\"Greenwich\",0.0],UNIT[\"Degree\",0.0174532925199433]],PROJECTION[\"Albers\"],PARAMETER[\"False_Easting\",0.0],PARAMETER[\"False_Northing\",0.0],PARAMETER[\"Central_Meridian\",-54.0],PARAMETER[\"Standard_Parallel_1\",-2.0],PARAMETER[\"Standard_Parallel_2\",-22.0],PARAMETER[\"Latitude_Of_Origin\",-12.0],UNIT[\"Meter\",1.0]]',\n",
    "                         None, 'GEOGCS[\"SIRGAS 2000\",DATUM[\"D_Sistema_de_Referencia_Geocentrico_para_America_del_Sur_2000\",SPHEROID[\"GRS_1980\",6378137.0,298.257222101]],PRIMEM[\"Greenwich\",0.0],UNIT[\"Degree\",0.0174532925199433]]', \"NO_PRESERVE_SHAPE\", \n",
    "                         None, \"NO_VERTICAL\")"
   ]
  },
  {
   "cell_type": "code",
   "execution_count": null,
   "id": "ccaca639",
   "metadata": {},
   "outputs": [],
   "source": [
    "#Settlements AOI selection \n",
    "assentamentos_AOI = arcpy.management.SelectLayerByLocation(\"Assentamento_Brasil_sem_UC_AEA;db00_escopo_municipio\", \"HAVE_THEIR_CENTER_IN\", \"db00_escopo_municipio\", None, \"NEW_SELECTION\", \"NOT_INVERT\")\n",
    "\n",
    "#Save settlements AOI \n",
    "arcpy.CopyFeatures_management(assentamentos_AOI, r\"C:\\Users\\guilherme.fronza\\OneDrive\\cacauFlorestaAcelerador\\amazon_acelerador\\04a_dados_espaciais\\02_dados_automacao\\Assentamento_Brasil_sem_UC_AEA_AOI\")\n",
    "\n",
    "#Clear selection db_escopo municipio\n",
    "arcpy.SelectLayerByAttribute_management('db00_escopo_municipio', \"CLEAR_SELECTION\")\n",
    "\n",
    "#CAR TNC AOI selection\n",
    "CAR_TNC_AOI = arcpy.management.SelectLayerByLocation(\"CAR_SEM_SOBREP_TNC_2021_AEA;db00_escopo_municipio\", \"HAVE_THEIR_CENTER_IN\", \"db00_escopo_municipio\", None, \"NEW_SELECTION\", \"NOT_INVERT\")\n",
    "\n",
    "#Save CAR TNC AOI\n",
    "arcpy.CopyFeatures_management(CAR_TNC_AOI, r\"C:\\Users\\guilherme.fronza\\OneDrive\\cacauFlorestaAcelerador\\amazon_acelerador\\04a_dados_espaciais\\02_dados_automacao\\CAR_SEM_SOBREP_TNC_2021_AEA_AOI\")"
   ]
  },
  {
   "cell_type": "code",
   "execution_count": null,
   "id": "e782c610",
   "metadata": {},
   "outputs": [],
   "source": [
    "#Fiscal Module insertion and processing\n",
    "\n",
    "#Join table -  fiscal module table into CAR shape\n",
    "arcpy.management.JoinField(\"CAR_SEM_SOBREP_TNC_2021_AEA_AOI\", \"geocodigo\", r\"C:\\Users\\guilherme.fronza\\OneDrive\\cacauFlorestaAcelerador\\amazon_acelerador\\04a_dados_espaciais\\02_dados_referencia\\br_incra_modulos_fiscais_2013_por_municipio.xlsx\\municipios_brasil$\", \"geocodigo\", \"MF_ha\")\n",
    "\n",
    "#Copy joined shapefile\n",
    "arcpy.CopyFeatures_management('CAR_SEM_SOBREP_TNC_2021_AEA_AOI', r\"C:\\Users\\guilherme.fronza\\OneDrive\\cacauFlorestaAcelerador\\amazon_acelerador\\04a_dados_espaciais\\02_dados_automacao\\CAR_SEM_SOBREP_TNC_2021_AEA_AOI_MF\")\n",
    "\n",
    "#Calculate field 'AREA' rural properties / MF_HA (geocodigo based)\n",
    "arcpy.management.CalculateField(\"CAR_SEM_SOBREP_TNC_2021_AEA_AOI_MF\", \"MF_PROP\", \"!AREA_IMOVE! / !MF_ha!\", \"PYTHON3\", '', \"DOUBLE\", \"NO_ENFORCE_DOMAINS\")\n",
    "\n",
    "#Create a rule to classify in MF_STATUS the small properties (< 4 MF)\n",
    "arcpy.management.CalculateField(\"CAR_SEM_SOBREP_TNC_2021_AEA_AOI_MF\", \"MF_STATUS\", \"reclass(!MF_STATUS!, !MF_PROP!)\", \"PYTHON3\", \"\"\"def reclass(MF_STATUS, MF_PROP):\n",
    "    if (MF_PROP < 4):\n",
    "        mf_4 = 'Peq propriedade'\n",
    "        return mf_4\n",
    "    else:\n",
    "        return 0\"\"\", \"TEXT\", \"NO_ENFORCE_DOMAINS\")\n",
    "\n",
    "#Select only small properties\n",
    "arcpy.management.SelectLayerByAttribute(\"CAR_SEM_SOBREP_TNC_2021_AEA_AOI_MF\", \"NEW_SELECTION\", \"MF_STATUS = 'Peq propriedade'\", None)\n",
    "\n",
    "#Save shapefile\n",
    "arcpy.CopyFeatures_management('CAR_SEM_SOBREP_TNC_2021_AEA_AOI_MF', r\"C:\\Users\\guilherme.fronza\\OneDrive\\cacauFlorestaAcelerador\\amazon_acelerador\\04a_dados_espaciais\\02_dados_automacao\\CAR_SEM_SOBREP_TNC_2021_AEA_AOI_MF_PP\")"
   ]
  },
  {
   "cell_type": "code",
   "execution_count": null,
   "id": "a5a00a87",
   "metadata": {},
   "outputs": [],
   "source": [
    "#Union processing preparation\n",
    "\n",
    "#Remove Multiple Overlapping polygons from Assentamentos dataset\n",
    "arcpy.analysis.RemoveOverlapMultiple(\"Assentamento_Brasil_sem_UC_AEA_AOI\", r\"C:\\Users\\guilherme.fronza\\OneDrive\\cacauFlorestaAcelerador\\amazon_acelerador\\04a_dados_espaciais\\02_dados_automacao\\Assentamento_Brasil_sem_UC_AEA_AOI_RMOVLP.shp\", \"THIESSEN\", \"ALL\")\n",
    "\n",
    "#CAR and Settlements REPAIR GEOMETRIES\n",
    "arcpy.management.RepairGeometry(\"CAR_SEM_SOBREP_TNC_2021_AEA_AOI_MF_PP\", \"DELETE_NULL\", \"ESRI\")\n",
    "arcpy.management.RepairGeometry(\"Assentamento_Brasil_sem_UC_AEA_AOI_RMOVLP\", \"DELETE_NULL\", \"ESRI\")\n",
    "\n",
    "#CAR and settlements union\n",
    "arcpy.analysis.Union(\"CAR_SEM_SOBREP_TNC_2021_AEA_AOI_MF_PP #;Assentamento_Brasil_sem_UC_AEA_AOI_RMOVLP #\", r\"C:\\Users\\guilherme.fronza\\OneDrive\\cacauFlorestaAcelerador\\amazon_acelerador\\04a_dados_espaciais\\02_dados_automacao\\CAR_ASSENT_AOI_UNION.shp\", \"ALL\", None, \"GAPS\")"
   ]
  },
  {
   "cell_type": "code",
   "execution_count": null,
   "id": "ccdd43cf",
   "metadata": {},
   "outputs": [],
   "source": [
    "#Spatial Join to set municipalities in the dataset with \"center in\" criteria\n",
    "arcpy.analysis.SpatialJoin(\"CAR_ASSENT_AOI_UNION\", \"db00_escopo_municipio\", r\"C:\\Users\\guilherme.fronza\\OneDrive\\cacauFlorestaAcelerador\\amazon_acelerador\\04a_dados_espaciais\\02_dados_automacao\\CAR_ASSENT_AOI_UNION_MUN.shp\", \"JOIN_ONE_TO_ONE\", \"KEEP_ALL\", 'FID_CAR_SE \"FID_CAR_SE\" true true false 10 Long 0 10,First,#,CAR_ASSENT_AOI_UNION,FID_CAR_SE,-1,-1;COD_IMOVEL \"COD_IMOVEL\" true true false 100 Text 0 0,First,#,CAR_ASSENT_AOI_UNION,COD_IMOVEL,0,100;AREA_IMOVE \"AREA_IMOVE\" true true false 19 Double 0 0,First,#,CAR_ASSENT_AOI_UNION,AREA_IMOVE,-1,-1;IND_STATUS \"IND_STATUS\" true true false 2 Text 0 0,First,#,CAR_ASSENT_AOI_UNION,IND_STATUS,0,2;IND_TIPO_I \"IND_TIPO_I\" true true false 3 Text 0 0,First,#,CAR_ASSENT_AOI_UNION,IND_TIPO_I,0,3;ir_ha \"ir_ha\" true true false 19 Double 0 0,First,#,CAR_ASSENT_AOI_UNION,ir_ha,-1,-1;obs_sobrep \"obs_sobrep\" true true false 254 Text 0 0,First,#,CAR_ASSENT_AOI_UNION,obs_sobrep,0,254;irrev_ha \"irrev_ha\" true true false 19 Double 0 0,First,#,CAR_ASSENT_AOI_UNION,irrev_ha,-1,-1;porc_area \"porc_area\" true true false 10 Long 0 10,First,#,CAR_ASSENT_AOI_UNION,porc_area,-1,-1;nome_corre \"nome_corre\" true true false 254 Text 0 0,First,#,CAR_ASSENT_AOI_UNION,nome_corre,0,254;geocodigo \"geocodigo\" true true false 80 Text 0 0,First,#,CAR_ASSENT_AOI_UNION,geocodigo,0,80,db00_escopo_municipio,geocodigo,0,80;sigla \"sigla\" true true false 2 Text 0 0,First,#,CAR_ASSENT_AOI_UNION,sigla,0,2,db00_escopo_municipio,sigla,0,2;A__D2007 \"A__D2007\" true true false 19 Double 0 0,First,#,CAR_ASSENT_AOI_UNION,A__D2007,-1,-1;A__D2008 \"A__D2008\" true true false 19 Double 0 0,First,#,CAR_ASSENT_AOI_UNION,A__D2008,-1,-1;A__D2009 \"A__D2009\" true true false 19 Double 0 0,First,#,CAR_ASSENT_AOI_UNION,A__D2009,-1,-1;A__D2010 \"A__D2010\" true true false 19 Double 0 0,First,#,CAR_ASSENT_AOI_UNION,A__D2010,-1,-1;A__D2011 \"A__D2011\" true true false 19 Double 0 0,First,#,CAR_ASSENT_AOI_UNION,A__D2011,-1,-1;A__D2012 \"A__D2012\" true true false 19 Double 0 0,First,#,CAR_ASSENT_AOI_UNION,A__D2012,-1,-1;A__D2013 \"A__D2013\" true true false 19 Double 0 0,First,#,CAR_ASSENT_AOI_UNION,A__D2013,-1,-1;A__D2014 \"A__D2014\" true true false 19 Double 0 0,First,#,CAR_ASSENT_AOI_UNION,A__D2014,-1,-1;A__D2015 \"A__D2015\" true true false 19 Double 0 0,First,#,CAR_ASSENT_AOI_UNION,A__D2015,-1,-1;A__D2016 \"A__D2016\" true true false 19 Double 0 0,First,#,CAR_ASSENT_AOI_UNION,A__D2016,-1,-1;A__D2017 \"A__D2017\" true true false 19 Double 0 0,First,#,CAR_ASSENT_AOI_UNION,A__D2017,-1,-1;A__D2018 \"A__D2018\" true true false 19 Double 0 0,First,#,CAR_ASSENT_AOI_UNION,A__D2018,-1,-1;A__D2019 \"A__D2019\" true true false 19 Double 0 0,First,#,CAR_ASSENT_AOI_UNION,A__D2019,-1,-1;A__D2020 \"A__D2020\" true true false 19 Double 0 0,First,#,CAR_ASSENT_AOI_UNION,A__D2020,-1,-1;regiao \"regiao\" true true false 50 Text 0 0,First,#,CAR_ASSENT_AOI_UNION,regiao,0,50,db00_escopo_municipio,regiao,0,50;Desmat_ant \"Desmat_ant\" true true false 19 Double 0 0,First,#,CAR_ASSENT_AOI_UNION,Desmat_ant,-1,-1;Desmat_pos \"Desmat_pos\" true true false 19 Double 0 0,First,#,CAR_ASSENT_AOI_UNION,Desmat_pos,-1,-1;Shape_Leng \"Shape_Leng\" true true false 19 Double 0 0,First,#,CAR_ASSENT_AOI_UNION,Shape_Leng,-1,-1,db00_escopo_municipio,Shape_Leng,-1,-1;Shape_Area \"Shape_Area\" true true false 19 Double 0 0,First,#,CAR_ASSENT_AOI_UNION,Shape_Area,-1,-1,db00_escopo_municipio,Shape_Area,-1,-1;MF_ha \"MF_ha\" true true false 19 Double 0 0,First,#,CAR_ASSENT_AOI_UNION,MF_ha,-1,-1;MF_PROP \"MF_PROP\" true true false 19 Double 0 0,First,#,CAR_ASSENT_AOI_UNION,MF_PROP,-1,-1;MF_STATUS \"MF_STATUS\" true true false 254 Text 0 0,First,#,CAR_ASSENT_AOI_UNION,MF_STATUS,0,254;FID_Assent \"FID_Assent\" true true false 10 Long 0 10,First,#,CAR_ASSENT_AOI_UNION,FID_Assent,-1,-1;ORIG_FID \"ORIG_FID\" true true false 10 Long 0 10,First,#,CAR_ASSENT_AOI_UNION,ORIG_FID,-1,-1;cd_sipra \"cd_sipra\" true true false 254 Text 0 0,First,#,CAR_ASSENT_AOI_UNION,cd_sipra,0,254;uf \"uf\" true true false 2 Text 0 0,First,#,CAR_ASSENT_AOI_UNION,uf,0,2;nome_proje \"nome_proje\" true true false 254 Text 0 0,First,#,CAR_ASSENT_AOI_UNION,nome_proje,0,254;municipio \"municipio\" true true false 254 Text 0 0,First,#,CAR_ASSENT_AOI_UNION,municipio,0,254;area_hecta \"area_hecta\" true true false 40 Text 0 0,First,#,CAR_ASSENT_AOI_UNION,area_hecta,0,40;capacidade \"capacidade\" true true false 9 Long 0 9,First,#,CAR_ASSENT_AOI_UNION,capacidade,-1,-1;num_famili \"num_famili\" true true false 9 Long 0 9,First,#,CAR_ASSENT_AOI_UNION,num_famili,-1,-1;fase \"fase\" true true false 9 Long 0 9,First,#,CAR_ASSENT_AOI_UNION,fase,-1,-1;data_de_cr \"data_de_cr\" true true false 10 Text 0 0,First,#,CAR_ASSENT_AOI_UNION,data_de_cr,0,10;forma_obte \"forma_obte\" true true false 50 Text 0 0,First,#,CAR_ASSENT_AOI_UNION,forma_obte,0,50;data_obten \"data_obten\" true true false 10 Text 0 0,First,#,CAR_ASSENT_AOI_UNION,data_obten,0,10;area_calc_ \"area_calc_\" true true false 19 Double 4 18,First,#,CAR_ASSENT_AOI_UNION,area_calc_,-1,-1;sr \"sr\" true true false 50 Text 0 0,First,#,CAR_ASSENT_AOI_UNION,sr,0,50;descricao_ \"descricao_\" true true false 50 Text 0 0,First,#,CAR_ASSENT_AOI_UNION,descricao_,0,50;tipo \"tipo\" true true false 50 Text 0 0,First,#,CAR_ASSENT_AOI_UNION,tipo,0,50;area_ha \"area_ha\" true true false 19 Double 0 0,First,#,CAR_ASSENT_AOI_UNION,area_ha,-1,-1,db00_escopo_municipio,area_ha,-1,-1;Join_Count \"Join_Count\" true true false 10 Long 0 10,First,#,db00_escopo_municipio,Join_Count,-1,-1;TARGET_FID \"TARGET_FID\" true true false 10 Long 0 10,First,#,db00_escopo_municipio,TARGET_FID,-1,-1;JOIN_FID \"JOIN_FID\" true true false 10 Long 0 10,First,#,db00_escopo_municipio,JOIN_FID,-1,-1;Join_Cou_1 \"Join_Cou_1\" true true false 10 Long 0 10,First,#,db00_escopo_municipio,Join_Cou_1,-1,-1;nome \"nome\" true true false 150 Text 0 0,First,#,db00_escopo_municipio,nome,0,150;geocod_n \"geocod_n\" true true false 10 Long 0 10,First,#,db00_escopo_municipio,geocod_n,-1,-1;nome_1 \"nome_1\" true true false 80 Text 0 0,First,#,db00_escopo_municipio,nome_1,0,80;geocodig_1 \"geocodig_1\" true true false 80 Text 0 0,First,#,db00_escopo_municipio,geocodig_1,0,80;nome_calta \"nome_calta\" true true false 250 Text 0 0,First,#,db00_escopo_municipio,nome_calta,0,250;ibge_ha \"ibge_ha\" true true false 10 Long 0 10,First,#,db00_escopo_municipio,ibge_ha,-1,-1', \"HAVE_THEIR_CENTER_IN\", None, '')"
   ]
  },
  {
   "cell_type": "code",
   "execution_count": null,
   "id": "0d180bd9",
   "metadata": {},
   "outputs": [],
   "source": [
    "# Select not null data in municipalities\n",
    "arcpy.management.SelectLayerByAttribute(\"CAR_ASSENT_AOI_UNION_MUN\", \"NEW_SELECTION\", \"nome <> ' '\", None)"
   ]
  },
  {
   "cell_type": "code",
   "execution_count": null,
   "id": "42f3872e",
   "metadata": {},
   "outputs": [],
   "source": [
    "# Save shapefile\n",
    "#arcpy.CopyFeatures_management('CAR_ASSENT_AOI_UNION_MUN', r\"C:\\Users\\guilherme.fronza\\OneDrive\\cacauFlorestaAcelerador\\amazon_acelerador\\04a_dados_espaciais\\02_dados_automacao\\CAR_ASSENT_AOI_UNION_MUN_f\")\n",
    "\n",
    "#deleting undesirable fields from main shapefile\n",
    "#arcpy.management.DeleteField(\"CAR_ASSENT_AOI_UNION_MUN_f\", \"Join_Count;TARGET_FID;FID_CAR_SE;nome_corre;geocodigo;sigla;A__D2007;A__D2008;A__D2009;A__D2010;A__D2011;A__D2012;A__D2013;A__D2014;A__D2015;A__D2016;A__D2017;A__D2019;A__D2020;regiao;Desmat_ant;Desmat_pos;Shape_Leng;Shape_Area;FID_Assent;ORIG_FID;area_ha;Join_Cou_1;TARGET_F_1;JOIN_FID;Join_Cou_2;nome_calta;ibge_ha\", \"DELETE_FIELDS\")\n",
    "#arcpy.management.DeleteField(\"CAR_ASSENT_AOI_UNION_MUN_f\", \"Join_Cou_1;TARGET_F_1;JOIN_FID;Join_Cou_2;nome_1;geocodig_1;nome_calta;ibge_ha\", \"DELETE_FIELDS\")"
   ]
  },
  {
   "cell_type": "code",
   "execution_count": null,
   "id": "e9cc1390",
   "metadata": {},
   "outputs": [],
   "source": [
    "#Considering \"assentamento\" info on column COD_IMOVEL to classify settlements and CAR data classes\n",
    "arcpy.management.SelectLayerByAttribute(\"CAR_ASSENT_AOI_UNION_MUN_f\", \"NEW_SELECTION\", \"COD_IMOVEL = ''\", None)\n",
    "arcpy.management.CalculateField(\"CAR_ASSENT_AOI_UNION_MUN_f\", \"COD_IMOVEL\", '\"Assentamento\"', \"PYTHON3\", '', \"TEXT\", \"NO_ENFORCE_DOMAINS\")\n",
    "arcpy.SelectLayerByAttribute_management('CAR_ASSENT_AOI_UNION_MUN_f', \"CLEAR_SELECTION\")"
   ]
  },
  {
   "cell_type": "code",
   "execution_count": null,
   "id": "c0a1b4dd",
   "metadata": {},
   "outputs": [],
   "source": [
    "### DATABASE PROCESSING UP TO NOW, STARTING TO PROCESS TIF FILES (PRODES, PASTURE AREAS)"
   ]
  },
  {
   "cell_type": "code",
   "execution_count": null,
   "id": "7d4ee8b8",
   "metadata": {},
   "outputs": [],
   "source": [
    "# processing raster to reproject - Albers Equal Area\n",
    "#arcpy.management.ProjectRaster(\"PDigital2000_2021_AMZ.tif\", \n",
    "#                               r\"C:\\Users\\guilherme.fronza\\OneDrive\\Amazon_Select\\Automation\\PDigital2000_2021_AMZ_AEA.tif\", \n",
    "#                               'PROJCS[\"Albers_Conic_Equal_Area\",GEOGCS[\"GCS_WGS_1984\",DATUM[\"D_WGS_1984\",SPHEROID[\"WGS_1984\",6378137.0,298.257223563]],PRIMEM[\"Greenwich\",0.0],UNIT[\"Degree\",0.0174532925199433]],PROJECTION[\"Albers\"],PARAMETER[\"False_Easting\",0.0],PARAMETER[\"False_Northing\",0.0],PARAMETER[\"Central_Meridian\",-54.0],PARAMETER[\"Standard_Parallel_1\",-2.0],PARAMETER[\"Standard_Parallel_2\",-22.0],PARAMETER[\"Latitude_Of_Origin\",-12.0],UNIT[\"Meter\",1.0]]', \n",
    "#                               \"NEAREST\", \"30 30\", None, None, 'GEOGCS[\"GCS_SIRGAS_2000\",DATUM[\"D_SIRGAS_2000\",SPHEROID[\"GRS_1980\",6378137.0,298.257222101]],PRIMEM[\"Greenwich\",0.0],UNIT[\"Degree\",0.0174532925199433]]', \"NO_VERTICAL\")\n",
    "            \n",
    "# transforming PRODES 2021 to polygon reference\n",
    "#arcpy.conversion.RasterToPolygon(\"PDigital2000_2021_AMZ_AEA.tif\", r\"C:\\Users\\guilherme.fronza\\OneDrive\\Amazon_Select\\Automation\\PDigital2000_2021_AMZ_AEA.shp\", \"SIMPLIFY\", \"Value\", \"SINGLE_OUTER_PART\", None)\n",
    "\n",
    "# Pasture LAPIG MAPBIOMAS COLL 5 reproject\n",
    "#arcpy.management.ProjectRaster(\"mapbiomas-brazil-collection-50-pasture-quality-limiteestadosdaamazonia-2018.tif\", r\"C:\\Users\\guilherme.fronza\\OneDrive\\Amazon_Select\\Automation\\mapbiomas-brazil-collection-50-pasture-quality-limiteestadosdaamazonia-2018_AEA.tif\", 'PROJCS[\"Albers_Conic_Equal_Area\",GEOGCS[\"GCS_WGS_1984\",DATUM[\"D_WGS_1984\",SPHEROID[\"WGS_1984\",6378137.0,298.257223563]],PRIMEM[\"Greenwich\",0.0],UNIT[\"Degree\",0.0174532925199433]],PROJECTION[\"Albers\"],PARAMETER[\"False_Easting\",0.0],PARAMETER[\"False_Northing\",0.0],PARAMETER[\"Central_Meridian\",-54.0],PARAMETER[\"Standard_Parallel_1\",-2.0],PARAMETER[\"Standard_Parallel_2\",-22.0],PARAMETER[\"Latitude_Of_Origin\",-12.0],UNIT[\"Meter\",1.0]]', \"NEAREST\", \"30 30\", None, None, 'GEOGCS[\"GCS_WGS_1984\",DATUM[\"D_WGS_1984\",SPHEROID[\"WGS_1984\",6378137.0,298.257223563]],PRIMEM[\"Greenwich\",0.0],UNIT[\"Degree\",0.0174532925199433]]', \"NO_VERTICAL\")"
   ]
  },
  {
   "cell_type": "code",
   "execution_count": null,
   "id": "0ae9a1ed",
   "metadata": {},
   "outputs": [],
   "source": [
    "# intersect PRODES 2007~2021 dataset with main shapefile (CAR + Settlements)\n",
    "arcpy.analysis.Intersect(\"PDigital2000_2021_AMZ_AEA #;CAR_ASSENT_AOI_UNION_MUN_f #\", \n",
    "                         r\"C:\\Users\\guilherme.fronza\\OneDrive\\cacauFlorestaAcelerador\\amazon_acelerador\\04a_dados_espaciais\\02_dados_automacao\\CAR_ASSENT_AOI_UNION_MUN_PD2021.shp\", \n",
    "                         \"ALL\", None, \"INPUT\")"
   ]
  },
  {
   "cell_type": "code",
   "execution_count": null,
   "id": "d03ff73e",
   "metadata": {},
   "outputs": [],
   "source": [
    "# Tabulate area Pasture Classes and CAR_ASSENT with PRODES 2007~2021 gridcode\n",
    "arcpy.sa.TabulateArea(\"CAR_ASSENT_AOI_UNION_MUN_PD2021\", \"FID\", \n",
    "                      \"mapbiomas-brazil-collection-50-pasture-quality-limiteestadosdaamazonia-2018_AEA.tif\", \"Value\", r\"C:\\Users\\guilherme.fronza\\OneDrive\\cacauFlorestaAcelerador\\amazon_acelerador\\04a_dados_espaciais\\02_dados_automacao\\Tabulate_Pasto1\",\n",
    "                      r\"C:\\Users\\guilherme.fronza\\OneDrive\\cacauFlorestaAcelerador\\amazon_acelerador\\04a_dados_espaciais\\02_dados_automacao\\mapbiomas-brazil-collection-50-pasture-quality-limiteestadosdaamazonia-2018_AEA.tif\", \n",
    "                      \"CLASSES_AS_FIELDS\")\n",
    "\n",
    "# Join tabulate with main shapefile\n",
    "arcpy.management.JoinField(\"CAR_ASSENT_AOI_UNION_MUN_PD2021\", \"FID\", \"tabulate_pasto1\", \"FID\", None)"
   ]
  },
  {
   "cell_type": "code",
   "execution_count": null,
   "id": "627c92ab",
   "metadata": {},
   "outputs": [],
   "source": [
    "# Save shapefile with PRODES 2007~2021 and Pasture classes\n",
    "arcpy.CopyFeatures_management('CAR_ASSENT_AOI_UNION_MUN_PD2021', \n",
    "                              r\"C:\\Users\\guilherme.fronza\\OneDrive\\cacauFlorestaAcelerador\\amazon_acelerador\\04a_dados_espaciais\\02_dados_automacao\\CAR_ASSENT_AOI_UNION_MUN_PD2021_PASTURE\")"
   ]
  },
  {
   "cell_type": "code",
   "execution_count": null,
   "id": "10fddf23",
   "metadata": {},
   "outputs": [],
   "source": [
    "#calculate area_ha field considering intersects between PRODES and CAR/Settlements database\n",
    "arcpy.management.CalculateGeometryAttributes(\"CAR_ASSENT_AOI_UNION_MUN_PD2021_PASTURE\", \"ar_ha_all AREA_GEODESIC\", '', \"HECTARES\", 'PROJCS[\"Albers_Conic_Equal_Area\",GEOGCS[\"GCS_WGS_1984\",DATUM[\"D_WGS_1984\",SPHEROID[\"WGS_1984\",6378137.0,298.257223563]],PRIMEM[\"Greenwich\",0.0],UNIT[\"Degree\",0.0174532925199433]],PROJECTION[\"Albers\"],PARAMETER[\"False_Easting\",0.0],PARAMETER[\"False_Northing\",0.0],PARAMETER[\"central_meridian\",-54.0],PARAMETER[\"Standard_Parallel_1\",-2.0],PARAMETER[\"Standard_Parallel_2\",-22.0],PARAMETER[\"latitude_of_origin\",-12.0],UNIT[\"Meter\",1.0]]', \"SAME_AS_INPUT\")"
   ]
  },
  {
   "cell_type": "code",
   "execution_count": null,
   "id": "aa7b26fe",
   "metadata": {},
   "outputs": [],
   "source": [
    "# CLOSING THE PROCESSING STEP TO INCLUDE PRODES AND PASTURE"
   ]
  },
  {
   "cell_type": "code",
   "execution_count": null,
   "id": "5735afb4",
   "metadata": {},
   "outputs": [],
   "source": [
    "#PIVOT TABLE PRODES\n",
    "#calculate field\n",
    "arcpy.management.CalculateField(\"CAR_ASSENT_AOI_UNION_MUN_PD2021_PASTURE\", \"ID_PV\", \"!FID!\", \"PYTHON3\", '', \"DOUBLE\", \"NO_ENFORCE_DOMAINS\")\n",
    "#pivot table processing\n",
    "arcpy.management.PivotTable(\"CAR_ASSENT_AOI_UNION_MUN_PD2021_PASTURE\", \"ID_PV;gridcode;ar_ha_all\", \"gridcode\", \"ar_ha_all\", r\"C:\\Users\\guilherme.fronza\\OneDrive\\cacauFlorestaAcelerador\\amazon_acelerador\\04a_dados_espaciais\\02_dados_projeto\\Projeto.gdb\\CAR_ASSENT_AOI_UNION_MUN_PD24\")\n",
    "#join to shapefile\n",
    "arcpy.management.JoinField(\"CAR_ASSENT_AOI_UNION_MUN_PD2021_PASTURE\", \"ID_PV\", \"CAR_ASSENT_AOI_UNION_MUN_PD24\", \"ID_PV\", None)"
   ]
  },
  {
   "cell_type": "code",
   "execution_count": null,
   "id": "4f2011d7",
   "metadata": {},
   "outputs": [],
   "source": [
    "# organizing fields pasture\n",
    "arcpy.management.CalculateField(\"CAR_ASSENT_AOI_UNION_MUN_PD2021_PASTURE\", \"SEM_PASTO\", \"!VALUE_0! / 10000\", \"PYTHON3\", '', \"DOUBLE\", \"NO_ENFORCE_DOMAINS\")\n",
    "arcpy.management.CalculateField(\"CAR_ASSENT_AOI_UNION_MUN_PD2021_PASTURE\", \"PASTO_NDEG\", \"!VALUE_1! / 10000\", \"PYTHON3\", '', \"DOUBLE\", \"NO_ENFORCE_DOMAINS\")\n",
    "arcpy.management.CalculateField(\"CAR_ASSENT_AOI_UNION_MUN_PD2021_PASTURE\", \"PASTO_LEVE\", \"!VALUE_2! / 10000\", \"PYTHON3\", '', \"DOUBLE\", \"NO_ENFORCE_DOMAINS\")\n",
    "arcpy.management.CalculateField(\"CAR_ASSENT_AOI_UNION_MUN_PD2021_PASTURE\", \"PASTO_MOD\", \"!VALUE_3! / 10000\", \"PYTHON3\", '', \"DOUBLE\", \"NO_ENFORCE_DOMAINS\")\n",
    "arcpy.management.CalculateField(\"CAR_ASSENT_AOI_UNION_MUN_PD2021_PASTURE\", \"PASTO_SEV\", \"!VALUE_4! / 10000\", \"PYTHON3\", '', \"DOUBLE\", \"NO_ENFORCE_DOMAINS\")\n",
    "\n",
    "#Delete old pasture fields \n",
    "# area_ha is the old area_ha calculated before intersect with PRODES (not valid)\n",
    "arcpy.management.DeleteField(\"CAR_ASSENT_AOI_UNION_MUN_PD2021_PASTURE\",\n",
    "                             \"VALUE_0;VALUE_1;VALUE_2;VALUE_3;VALUE_4;ID_PV;ID_PV_1;gridcode_1;area_ha\", \n",
    "                             \"DELETE_FIELDS\")"
   ]
  },
  {
   "cell_type": "code",
   "execution_count": null,
   "id": "9be95877",
   "metadata": {
    "scrolled": true
   },
   "outputs": [],
   "source": [
    "#PRODES fields organization\n",
    "arcpy.management.CalculateField(\"CAR_ASSENT_AOI_UNION_MUN_PD2021_PASTURE\", \"D2007\", \"!gridcode6!\", \"PYTHON3\", '', \"DOUBLE\", \"NO_ENFORCE_DOMAINS\")\n",
    "arcpy.management.CalculateField(\"CAR_ASSENT_AOI_UNION_MUN_PD2021_PASTURE\", \"D2008\", \"!gridcode7!\", \"PYTHON3\", '', \"DOUBLE\", \"NO_ENFORCE_DOMAINS\")\n",
    "arcpy.management.CalculateField(\"CAR_ASSENT_AOI_UNION_MUN_PD2021_PASTURE\", \"D2009\", \"!gridcode8!\", \"PYTHON3\", '', \"DOUBLE\", \"NO_ENFORCE_DOMAINS\")\n",
    "arcpy.management.CalculateField(\"CAR_ASSENT_AOI_UNION_MUN_PD2021_PASTURE\", \"D2010\", \"sum([!gridcode9!, !gridcode18!])\", \"PYTHON3\", '', \"DOUBLE\", \"NO_ENFORCE_DOMAINS\")\n",
    "arcpy.management.CalculateField(\"CAR_ASSENT_AOI_UNION_MUN_PD2021_PASTURE\", \"D2011\", \"sum([!gridcode10!, !gridcode19!])\", \"PYTHON3\", '', \"DOUBLE\", \"NO_ENFORCE_DOMAINS\")\n",
    "arcpy.management.CalculateField(\"CAR_ASSENT_AOI_UNION_MUN_PD2021_PASTURE\", \"D2012\", \"sum([!gridcode11!, !gridcode20!])\", \"PYTHON3\", '', \"DOUBLE\", \"NO_ENFORCE_DOMAINS\")\n",
    "arcpy.management.CalculateField(\"CAR_ASSENT_AOI_UNION_MUN_PD2021_PASTURE\", \"D2013\", \"sum([!gridcode12!, !gridcode21!])\", \"PYTHON3\", '', \"DOUBLE\", \"NO_ENFORCE_DOMAINS\")\n",
    "arcpy.management.CalculateField(\"CAR_ASSENT_AOI_UNION_MUN_PD2021_PASTURE\", \"D2014\", \"sum([!gridcode13!, !gridcode22!])\", \"PYTHON3\", '', \"DOUBLE\", \"NO_ENFORCE_DOMAINS\")\n",
    "arcpy.management.CalculateField(\"CAR_ASSENT_AOI_UNION_MUN_PD2021_PASTURE\", \"D2015\", \"sum([!gridcode14!, !gridcode23!])\", \"PYTHON3\", '', \"DOUBLE\", \"NO_ENFORCE_DOMAINS\")\n",
    "arcpy.management.CalculateField(\"CAR_ASSENT_AOI_UNION_MUN_PD2021_PASTURE\", \"D2016\", \"sum([!gridcode15!, !gridcode24!])\", \"PYTHON3\", '', \"DOUBLE\", \"NO_ENFORCE_DOMAINS\")\n",
    "arcpy.management.CalculateField(\"CAR_ASSENT_AOI_UNION_MUN_PD2021_PASTURE\", \"D2017\", \"sum([!gridcode16!, !gridcode25!])\", \"PYTHON3\", '', \"DOUBLE\", \"NO_ENFORCE_DOMAINS\")\n",
    "arcpy.management.CalculateField(\"CAR_ASSENT_AOI_UNION_MUN_PD2021_PASTURE\", \"D2018\", \"sum([!gridcode17!, !gridcode26!])\", \"PYTHON3\", '', \"DOUBLE\", \"NO_ENFORCE_DOMAINS\")\n",
    "arcpy.management.CalculateField(\"CAR_ASSENT_AOI_UNION_MUN_PD2021_PASTURE\", \"D2019\", \"sum([!gridcode27!, !gridcode28!])\", \"PYTHON3\", '', \"DOUBLE\", \"NO_ENFORCE_DOMAINS\")\n",
    "arcpy.management.CalculateField(\"CAR_ASSENT_AOI_UNION_MUN_PD2021_PASTURE\", \"D2020\", \"sum([!gridcode29!, !gridcode31!])\", \"PYTHON3\", '', \"DOUBLE\", \"NO_ENFORCE_DOMAINS\")\n",
    "arcpy.management.CalculateField(\"CAR_ASSENT_AOI_UNION_MUN_PD2021_PASTURE\", \"D2021\", \"!gridcode33!\", \"PYTHON3\", '', \"DOUBLE\", \"NO_ENFORCE_DOMAINS\")\n",
    "\n",
    "# delete old PRODES fields\n",
    "arcpy.management.DeleteField(\"CAR_ASSENT_AOI_UNION_MUN_PD2021_PASTURE\", \"gridcode1;gridcode10;gridcode11;gridcode12;gridcode13;gridcode14;gridcode15;gridcode16;gridcode17;gridcode18;gridcode19;gridcode2;gridcode20;gridcode21;gridcode22;gridcode23;gridcode24;gridcode25;gridcode26;gridcode27;gridcode28;gridcode29;gridcode3;gridcode31;gridcode32;gridcode33;gridcode4;gridcode6;gridcode7;gridcode8;gridcode9\", \"DELETE_FIELDS\")"
   ]
  },
  {
   "cell_type": "code",
   "execution_count": null,
   "id": "ea730360",
   "metadata": {},
   "outputs": [],
   "source": [
    "# Imazon_v2019 vicinals and secondary roads \n",
    "#LOGISTICS AND DISTANCE FROM ROADS ANALYSIS\n",
    "\n",
    "#REPROJECT\n",
    "#arcpy.management.Project(\"estradas_bioma_2012_geo\", r\"C:\\Users\\guilherme.fronza\\OneDrive\\cacauFlorestaAcelerador\\amazon_acelerador\\04a_dados_espaciais\\01_base_cartografica\\imazon_v2019\\estradas_bioma_2012_geo_AEA.shp\", 'PROJCS[\"Albers_Conic_Equal_Area\",GEOGCS[\"GCS_WGS_1984\",DATUM[\"D_WGS_1984\",SPHEROID[\"WGS_1984\",6378137.0,298.257223563]],PRIMEM[\"Greenwich\",0.0],UNIT[\"Degree\",0.0174532925199433]],PROJECTION[\"Albers\"],PARAMETER[\"False_Easting\",0.0],PARAMETER[\"False_Northing\",0.0],PARAMETER[\"central_meridian\",-54.0],PARAMETER[\"Standard_Parallel_1\",-2.0],PARAMETER[\"Standard_Parallel_2\",-22.0],PARAMETER[\"latitude_of_origin\",-12.0],UNIT[\"Meter\",1.0]]', \"SAD_1969_To_WGS_1984_14\", 'GEOGCS[\"GCS_South_American_1969\",DATUM[\"D_South_American_1969\",SPHEROID[\"GRS_1967_Truncated\",6378160.0,298.25]],PRIMEM[\"Greenwich\",0.0],UNIT[\"Degree\",0.0174532925199433]]', \"NO_PRESERVE_SHAPE\", None, \"NO_VERTICAL\")\n",
    "\n",
    "# NEAR PROCESSING - FIELD NEAR ROAD\n",
    "arcpy.analysis.Near(\"CAR_ASSENT_AOI_UNION_MUN_PD2021_PASTURE\", \"estradas_bioma_2012_geo_AEA\", None, \"NO_LOCATION\", \"NO_ANGLE\", \"GEODESIC\", \"NEAR_DIST NEAR_ROAD\")"
   ]
  },
  {
   "cell_type": "code",
   "execution_count": null,
   "id": "62caa63c",
   "metadata": {},
   "outputs": [],
   "source": [
    "# Deforestment analysis up to 2008 Column area\n",
    "arcpy.management.CalculateField(\"CAR_ASSENT_AOI_UNION_MUN_PD2021_PASTURE\", \"D_ANT2008\", \"sum([!D2007!, !D2008!])\", \"PYTHON3\", '', \"DOUBLE\", \"NO_ENFORCE_DOMAINS\")"
   ]
  },
  {
   "cell_type": "code",
   "execution_count": null,
   "id": "ae6bcc86",
   "metadata": {},
   "outputs": [],
   "source": [
    "#classx(!D_ANT2008t! , !D_ANT2008_!)\n",
    "\n",
    "#def classx(D_ANT2008t, D_ANT2008_):\n",
    "#    if (D_ANT2008_ == 0):\n",
    "#        desmat = \"sem desmatamento anterior 2008\"\n",
    "#        return desmat\n",
    "#    elif (D_ANT2008_ > 0):\n",
    "#        desmat = \"desmatou antes/até 2008\"\n",
    "#        return desmat\n",
    " \n",
    "arcpy.management.CalculateField(\"CAR_ASSENT_AOI_UNION_MUN_PD2021_PASTURE\", \"D_ANT2008t\", \"classx(!D_ANT2008t! , !D_ANT2008!)\", \"PYTHON3\", \"\"\"def classx(D_ANT2008t, D_ANT2008):\n",
    "    if (D_ANT2008 == 0):\n",
    "        desmat = \"sem desmatamento anterior 2008\"\n",
    "        return desmat\n",
    "    elif (D_ANT2008 > 0):\n",
    "        desmat = \"desmatou antes/até 2008\"\n",
    "        return desmat\n",
    "        \"\"\", \"TEXT\", \"NO_ENFORCE_DOMAINS\")"
   ]
  },
  {
   "cell_type": "code",
   "execution_count": null,
   "id": "759b30d7",
   "metadata": {},
   "outputs": [],
   "source": [
    "# Deforestment analysis post 2008 column area\n",
    "arcpy.management.CalculateField(\"CAR_ASSENT_AOI_UNION_MUN_PD2021_PASTURE\", \"D_POS2008\", \"sum([!D2009! , !D2010! , !D2011!, !D2012! ,!D2013! , !D2014!, !D2015!, !D2016!, !D2017!, !D2018!, !D2019!, !D2020!, !D2021!])\", \"PYTHON3\", '', \"DOUBLE\", \"NO_ENFORCE_DOMAINS\")"
   ]
  },
  {
   "cell_type": "code",
   "execution_count": null,
   "id": "f38ad5f2",
   "metadata": {},
   "outputs": [],
   "source": [
    "#class_pos2008(!D_POS2008t! , !D_POS2008!)\n",
    "\n",
    "#def class_pos2008(D_POS2008t, D_POS2008):\n",
    "#    if (D_POS2008 == 0):\n",
    "#        desmat = \"sem desmatamento pós 2008\"\n",
    "#        return desmat\n",
    "#    elif (D_POS2008 > 0):\n",
    "#        desmat = \"desmatou pós 2008\"\n",
    "#        return desmat\n",
    "\n",
    "arcpy.management.CalculateField(\"CAR_ASSENT_AOI_UNION_MUN_PD2021_PASTURE\", \"D_POS2008t\", \"class_pos2008(!D_POS2008t! , !D_POS2008!)\", \"PYTHON3\", \"\"\"def class_pos2008(D_POS2008t, D_POS2008):\n",
    "    if (D_POS2008 == 0):\n",
    "        desmat = \"sem desmatamento após 2008\"\n",
    "        return desmat\n",
    "    elif (D_POS2008 > 0):\n",
    "        desmat = \"desmatou após 2008\"\n",
    "        return desmat\"\"\", \"TEXT\", \"NO_ENFORCE_DOMAINS\")"
   ]
  },
  {
   "cell_type": "code",
   "execution_count": null,
   "id": "630b0552",
   "metadata": {},
   "outputs": [],
   "source": [
    "# Main soil types with naturally high suitability for producing cocoa \n",
    "#(Theobroma cacao) at low input level in Para´ state\n",
    "''\n",
    "arcpy.management.SelectLayerByLocation(\"CAR_ASSENT_AOI_UNION_MUN_PD2021_PASTURE\", \"INTERSECT\", \"Solos_Schroth2016_AEA_AOI\", None, \"NEW_SELECTION\", \"NOT_INVERT\")\n",
    "\n",
    "arcpy.management.CalculateField(\"CAR_ASSENT_AOI_UNION_MUN_PD2021_PASTURE\", \"SOIL\", \"'SUITABLE TO COCOA'\", \"PYTHON3\", '', \"TEXT\", \"NO_ENFORCE_DOMAINS\")\n",
    "\n",
    "arcpy.SelectLayerByAttribute_management('CAR_ASSENT_AOI_UNION_MUN_PD2021_PASTURE', \"CLEAR_SELECTION\")"
   ]
  },
  {
   "cell_type": "code",
   "execution_count": null,
   "id": "9241142d",
   "metadata": {},
   "outputs": [],
   "source": [
    "# NEAR UCS PI US CONSIDERING DATA SOURCE\n",
    "arcpy.analysis.Near(\"CAR_ASSENT_AOI_UNION_MUN_PD2021_PASTURE\", \"br_uc_mma_UCs_PI_US_AEA\", None, \"NO_LOCATION\", \"NO_ANGLE\", \"GEODESIC\", \"NEAR_DIST NEAR_UCS\")"
   ]
  },
  {
   "cell_type": "code",
   "execution_count": null,
   "id": "7326aecf",
   "metadata": {},
   "outputs": [],
   "source": [
    "# APA WITHIN SELECTION CONSIDERING DATA SOURCE\n",
    "arcpy.management.SelectLayerByLocation(\"CAR_ASSENT_AOI_UNION_MUN_PD2021_PASTURE\", \"WITHIN\", \"br_uc_mma_APA_AEA\", None, \"NEW_SELECTION\", \"NOT_INVERT\")\n",
    "\n",
    "# Create column APA and fill with \"Sim\", considering previous selection\n",
    "arcpy.management.CalculateField(\"CAR_ASSENT_AOI_UNION_MUN_PD2021_PASTURE\", \"APA\", '\"Sim\"', \"PYTHON3\", '', \"TEXT\", \"NO_ENFORCE_DOMAINS\")\n",
    "\n",
    "#clear selection\n",
    "arcpy.SelectLayerByAttribute_management('CAR_ASSENT_AOI_UNION_MUN_PD2021_PASTURE', \"CLEAR_SELECTION\")"
   ]
  },
  {
   "cell_type": "code",
   "execution_count": null,
   "id": "0780fac6",
   "metadata": {},
   "outputs": [],
   "source": [
    "# NEAR INDIGENOUS TERRITORIES (2hrs processing)\n",
    "arcpy.analysis.Near(\"CAR_ASSENT_AOI_UNION_MUN_PD2021_PASTURE\", \"br_ti_funai_AEA;br_ti_estudo_funai_AEA\", None, \"NO_LOCATION\", \"NO_ANGLE\", \"GEODESIC\", \"NEAR_DIST NEAR_TI\")"
   ]
  },
  {
   "cell_type": "code",
   "execution_count": null,
   "id": "a88b948d",
   "metadata": {},
   "outputs": [],
   "source": [
    "# Join area plantada cacau (ha_p), área cultivada (ha_c) e produtividade (_ton)\n",
    "arcpy.management.JoinField(\"CAR_ASSENT_AOI_UNION_MUN_PD2021_PASTURE\", \"geocod_n\", r\"C:\\Users\\guilherme.fronza\\OneDrive\\cacauFlorestaAcelerador\\amazon_acelerador\\04a_dados_espaciais\\02_dados_referencia\\Dados_Cacau_SEDAP_Para\\Dados_Cacau_SEDAP_cleaned.xlsx\\T_Cacau__em_amêndoa_$_\", \"cod\", None)"
   ]
  },
  {
   "cell_type": "code",
   "execution_count": 1,
   "id": "e85d4715",
   "metadata": {},
   "outputs": [
    {
     "data": {
      "text/html": [
       "<div class='gpresult'><h2>Messages</h2><div id='messages' data-messages='[\"Start Time: terça-feira, 22 de fevereiro de 2022 14:42:16\",\"Succeeded at terça-feira, 22 de fevereiro de 2022 14:42:16 (Elapsed Time: 0.22 seconds)\"]' data-show='true'><div id = 'default' /></div></div>"
      ],
      "text/plain": [
       "<Result 'lml_cidade_pontos_AEA'>"
      ]
     },
     "execution_count": 1,
     "metadata": {},
     "output_type": "execute_result"
    }
   ],
   "source": [
    "## BC 1:250k IBGE v2021 lml_cidades_pontos - Análise de sedes municipais \n",
    "\n",
    "#REPROJECT\n",
    "#arcpy.management.Project(\"lml_cidade_p\", r\"C:\\Users\\guilherme.fronza\\Downloads\\IBGE_BC250_v2021\\lml_cidade_pontos_AEA\", 'PROJCS[\"Albers_Conic_Equal_Area\",GEOGCS[\"GCS_WGS_1984\",DATUM[\"D_WGS_1984\",SPHEROID[\"WGS_1984\",6378137.0,298.257223563]],PRIMEM[\"Greenwich\",0.0],UNIT[\"Degree\",0.0174532925199433]],PROJECTION[\"Albers\"],PARAMETER[\"False_Easting\",0.0],PARAMETER[\"False_Northing\",0.0],PARAMETER[\"central_meridian\",-54.0],PARAMETER[\"Standard_Parallel_1\",-2.0],PARAMETER[\"Standard_Parallel_2\",-22.0],PARAMETER[\"latitude_of_origin\",-12.0],UNIT[\"Meter\",1.0]]', \"SIRGAS_2000_To_WGS_1984_1\", 'GEOGCS[\"GCS_SIRGAS_2000\",DATUM[\"D_SIRGAS_2000\",SPHEROID[\"GRS_1980\",6378137.0,298.257222101]],PRIMEM[\"Greenwich\",0.0],UNIT[\"Degree\",0.0174532925199433]]', \"NO_PRESERVE_SHAPE\", None, \"NO_VERTICAL\")\n",
    "\n",
    "#FILTER CONSIDERING AOI MUNICIPALITIES\n",
    "#arcpy.management.SelectLayerByLocation(\"lml_cidade_pontos_AEA;db00_escopo_municipio\", \"COMPLETELY_WITHIN\", \"db00_escopo_municipio\", None, \"NEW_SELECTION\", \"NOT_INVERT\")\n",
    "\n",
    "#Save shapefile\n",
    "#arcpy.CopyFeatures_management('lml_cidade_pontos_AEA', r\"C:\\Users\\guilherme.fronza\\OneDrive\\cacauFlorestaAcelerador\\amazon_acelerador\\04a_dados_espaciais\\02_dados_automacao\\lml_cidade_pontos_AEA_AOI\")\n",
    "\n",
    "#Clear selection\n",
    "#arcpy.SelectLayerByAttribute_management('lml_cidade_pontos_AEA', \"CLEAR_SELECTION\")"
   ]
  },
  {
   "cell_type": "code",
   "execution_count": 4,
   "id": "f35b9b37",
   "metadata": {},
   "outputs": [
    {
     "data": {
      "text/html": [
       "<div class='gpresult'><h2>Messages</h2><div id='messages' data-messages='[\"Start Time: terça-feira, 22 de fevereiro de 2022 14:45:43\",\"Determining data processing extents...\",\"Adding FID_SED to CAR_ASSENT_AOI_UNION_MUN_PD2021_PASTURE...\",\"Adding NEAR_SED to CAR_ASSENT_AOI_UNION_MUN_PD2021_PASTURE...\",\"Building a neighborhood index from the Near Features...\",\"Generating Near Table...\",\"Found 341048 feature(s)\",\"Succeeded at terça-feira, 22 de fevereiro de 2022 14:50:00 (Elapsed Time: 4 minutes 16 seconds)\"]' data-show='true'><div id = 'default' /></div></div>"
      ],
      "text/plain": [
       "<Result 'CAR_ASSENT_AOI_UNION_MUN_PD2021_PASTURE'>"
      ]
     },
     "execution_count": 4,
     "metadata": {},
     "output_type": "execute_result"
    }
   ],
   "source": [
    "# NEAR PROCESSING - FIELD NEAR SED\n",
    "arcpy.analysis.Near(\"CAR_ASSENT_AOI_UNION_MUN_PD2021_PASTURE\", \"lml_cidade_pontos_AEA_AOI\", None, \"NO_LOCATION\", \"NO_ANGLE\", \"GEODESIC\", \"NEAR_FID FID_SED;NEAR_DIST NEAR_SED\")"
   ]
  },
  {
   "cell_type": "code",
   "execution_count": 5,
   "id": "c80e6447",
   "metadata": {},
   "outputs": [
    {
     "data": {
      "text/html": [
       "<div class='gpresult'><h2>Messages</h2><div id='messages' data-messages='[\"Start Time: terça-feira, 22 de fevereiro de 2022 15:15:56\",\"Succeeded at terça-feira, 22 de fevereiro de 2022 15:16:00 (Elapsed Time: 3,82 seconds)\"]' data-show='true'><div id = 'default' /></div></div>"
      ],
      "text/plain": [
       "<Result 'C:\\\\Users\\\\guilherme.fronza\\\\OneDrive\\\\cacauFlorestaAcelerador\\\\amazon_acelerador\\\\04a_dados_espaciais\\\\02_dados_automacao\\\\eco_ext_mineral_p_AEA'>"
      ]
     },
     "execution_count": 5,
     "metadata": {},
     "output_type": "execute_result"
    }
   ],
   "source": [
    "#Mining extraction near analysis\n",
    "# considering TNC TI's database, SFX Tucumã 2018 database, IBGE 250k database (points and polygons)\n",
    "\n",
    "#reprojections\n",
    "arcpy.management.Project(\"eco_ext_mineral_a\", r\"C:\\Users\\guilherme.fronza\\OneDrive\\cacauFlorestaAcelerador\\amazon_acelerador\\04a_dados_espaciais\\02_dados_automacao\\eco_ext_mineral_a_AEA\", 'PROJCS[\"Albers_Conic_Equal_Area\",GEOGCS[\"GCS_WGS_1984\",DATUM[\"D_WGS_1984\",SPHEROID[\"WGS_1984\",6378137.0,298.257223563]],PRIMEM[\"Greenwich\",0.0],UNIT[\"Degree\",0.0174532925199433]],PROJECTION[\"Albers\"],PARAMETER[\"False_Easting\",0.0],PARAMETER[\"False_Northing\",0.0],PARAMETER[\"central_meridian\",-54.0],PARAMETER[\"Standard_Parallel_1\",-2.0],PARAMETER[\"Standard_Parallel_2\",-22.0],PARAMETER[\"latitude_of_origin\",-12.0],UNIT[\"Meter\",1.0]]', \"SIRGAS_2000_To_WGS_1984_1\", 'GEOGCS[\"GCS_SIRGAS_2000\",DATUM[\"D_SIRGAS_2000\",SPHEROID[\"GRS_1980\",6378137.0,298.257222101]],PRIMEM[\"Greenwich\",0.0],UNIT[\"Degree\",0.0174532925199433]]', \"NO_PRESERVE_SHAPE\", None, \"NO_VERTICAL\")\n",
    "arcpy.management.Project(\"mining_2018_mun\", r\"C:\\Users\\guilherme.fronza\\OneDrive\\cacauFlorestaAcelerador\\amazon_acelerador\\04a_dados_espaciais\\02_dados_automacao\\mining_2018_mun_AEA\", 'PROJCS[\"Albers_Conic_Equal_Area\",GEOGCS[\"GCS_WGS_1984\",DATUM[\"D_WGS_1984\",SPHEROID[\"WGS_1984\",6378137.0,298.257223563]],PRIMEM[\"Greenwich\",0.0],UNIT[\"Degree\",0.0174532925199433]],PROJECTION[\"Albers\"],PARAMETER[\"False_Easting\",0.0],PARAMETER[\"False_Northing\",0.0],PARAMETER[\"central_meridian\",-54.0],PARAMETER[\"Standard_Parallel_1\",-2.0],PARAMETER[\"Standard_Parallel_2\",-22.0],PARAMETER[\"latitude_of_origin\",-12.0],UNIT[\"Meter\",1.0]]', \"SIRGAS_2000_To_WGS_1984_1\", 'PROJCS[\"SIRGAS_2000_UTM_Zone_22S\",GEOGCS[\"GCS_SIRGAS_2000\",DATUM[\"D_SIRGAS_2000\",SPHEROID[\"GRS_1980\",6378137.0,298.257222101]],PRIMEM[\"Greenwich\",0.0],UNIT[\"Degree\",0.0174532925199433]],PROJECTION[\"Transverse_Mercator\"],PARAMETER[\"False_Easting\",500000.0],PARAMETER[\"False_Northing\",10000000.0],PARAMETER[\"Central_Meridian\",-51.0],PARAMETER[\"Scale_Factor\",0.9996],PARAMETER[\"Latitude_Of_Origin\",0.0],UNIT[\"Meter\",1.0]]', \"NO_PRESERVE_SHAPE\", None, \"NO_VERTICAL\")\n",
    "arcpy.management.Project(\"mineracai_ti_pa\", r\"C:\\Users\\guilherme.fronza\\OneDrive\\cacauFlorestaAcelerador\\amazon_acelerador\\04a_dados_espaciais\\02_dados_automacao\\mineracai_ti_pa_AEA\", 'PROJCS[\"Albers_Conic_Equal_Area\",GEOGCS[\"GCS_WGS_1984\",DATUM[\"D_WGS_1984\",SPHEROID[\"WGS_1984\",6378137.0,298.257223563]],PRIMEM[\"Greenwich\",0.0],UNIT[\"Degree\",0.0174532925199433]],PROJECTION[\"Albers\"],PARAMETER[\"False_Easting\",0.0],PARAMETER[\"False_Northing\",0.0],PARAMETER[\"central_meridian\",-54.0],PARAMETER[\"Standard_Parallel_1\",-2.0],PARAMETER[\"Standard_Parallel_2\",-22.0],PARAMETER[\"latitude_of_origin\",-12.0],UNIT[\"Meter\",1.0]]', \"SAD_1969_To_WGS_1984_15\", 'PROJCS[\"South_America_Albers_Equal_Area_Conic\",GEOGCS[\"GCS_South_American_1969\",DATUM[\"D_South_American_1969\",SPHEROID[\"GRS_1967_Truncated\",6378160.0,298.25]],PRIMEM[\"Greenwich\",0.0],UNIT[\"Degree\",0.0174532925199433]],PROJECTION[\"Albers\"],PARAMETER[\"False_Easting\",0.0],PARAMETER[\"False_Northing\",0.0],PARAMETER[\"Central_Meridian\",-60.0],PARAMETER[\"Standard_Parallel_1\",-5.0],PARAMETER[\"Standard_Parallel_2\",-42.0],PARAMETER[\"Latitude_Of_Origin\",-32.0],UNIT[\"Meter\",1.0]]', \"NO_PRESERVE_SHAPE\", None, \"NO_VERTICAL\")\n",
    "arcpy.management.Project(\"eco_ext_mineral_p\", r\"C:\\Users\\guilherme.fronza\\OneDrive\\cacauFlorestaAcelerador\\amazon_acelerador\\04a_dados_espaciais\\02_dados_automacao\\eco_ext_mineral_p_AEA\", 'PROJCS[\"Albers_Conic_Equal_Area\",GEOGCS[\"GCS_WGS_1984\",DATUM[\"D_WGS_1984\",SPHEROID[\"WGS_1984\",6378137.0,298.257223563]],PRIMEM[\"Greenwich\",0.0],UNIT[\"Degree\",0.0174532925199433]],PROJECTION[\"Albers\"],PARAMETER[\"False_Easting\",0.0],PARAMETER[\"False_Northing\",0.0],PARAMETER[\"central_meridian\",-54.0],PARAMETER[\"Standard_Parallel_1\",-2.0],PARAMETER[\"Standard_Parallel_2\",-22.0],PARAMETER[\"latitude_of_origin\",-12.0],UNIT[\"Meter\",1.0]]', \"SIRGAS_2000_To_WGS_1984_1\", 'GEOGCS[\"GCS_SIRGAS_2000\",DATUM[\"D_SIRGAS_2000\",SPHEROID[\"GRS_1980\",6378137.0,298.257222101]],PRIMEM[\"Greenwich\",0.0],UNIT[\"Degree\",0.0174532925199433]]', \"NO_PRESERVE_SHAPE\", None, \"NO_VERTICAL\")"
   ]
  },
  {
   "cell_type": "code",
   "execution_count": 1,
   "id": "48a420c6",
   "metadata": {},
   "outputs": [
    {
     "data": {
      "text/html": [
       "<div class='gpresult'><h2>Messages</h2><div id='messages' data-messages='[\"Start Time: sexta-feira, 25 de fevereiro de 2022 16:15:40\",\"Determining data processing extents...\",\"Building a neighborhood index from the Near Features...\",\"Generating Near Table...\",\"Found 341048 feature(s)\",\"Succeeded at sexta-feira, 25 de fevereiro de 2022 17:00:51 (Elapsed Time: 45 minutes 10 seconds)\"]' data-show='true'><div id = 'default' /></div></div>"
      ],
      "text/plain": [
       "<Result 'CAR_ASSENT_AOI_UNION_MUN_PD2021_PASTURE'>"
      ]
     },
     "execution_count": 1,
     "metadata": {},
     "output_type": "execute_result"
    }
   ],
   "source": [
    "# NEAR MINING ANALYISIS (NO SUBSET TO AOI)\n",
    "arcpy.analysis.Near(\"CAR_ASSENT_AOI_UNION_MUN_PD2021_PASTURE\", \"eco_ext_mineral_p_AEA;mining_mapbiomas_coverage2020_AEA_AOI;mining_2018_mun_AEA;mineracai_ti_pa_AEA;eco_ext_mineral_a_AEA\", None, \"NO_LOCATION\", \"NO_ANGLE\", \"GEODESIC\", \"NEAR_DIST NEAR_MIN\")"
   ]
  },
  {
   "cell_type": "code",
   "execution_count": null,
   "id": "85d23d3c",
   "metadata": {},
   "outputs": [],
   "source": []
  },
  {
   "cell_type": "code",
   "execution_count": null,
   "id": "b1de7405",
   "metadata": {},
   "outputs": [],
   "source": []
  },
  {
   "cell_type": "code",
   "execution_count": null,
   "id": "e8b981ea",
   "metadata": {},
   "outputs": [],
   "source": [
    "#### filtering database to build data"
   ]
  },
  {
   "cell_type": "code",
   "execution_count": 11,
   "id": "c4286383",
   "metadata": {},
   "outputs": [
    {
     "data": {
      "text/html": [
       "<div class='gpresult'><h2>Messages</h2><div id='messages' data-messages='[\"Start Time: quarta-feira, 23 de fevereiro de 2022 10:44:58\",\"Succeeded at quarta-feira, 23 de fevereiro de 2022 10:45:01 (Elapsed Time: 2,24 seconds)\"]' data-show='true'><div id = 'default' /></div></div>"
      ],
      "text/plain": [
       "<Result 'CAR_ASSENT_AOI_UNION_MUN_PD2021_PASTURE'>"
      ]
     },
     "execution_count": 11,
     "metadata": {},
     "output_type": "execute_result"
    }
   ],
   "source": [
    "###Amazon Selection 10 years considering no deforestment areas \n",
    "arcpy.management.SelectLayerByAttribute(\"CAR_ASSENT_AOI_UNION_MUN_PD2021_PASTURE\", \"NEW_SELECTION\", \"D2021 = 0 And D2020 = 0 And D2019 = 0 And D2018 = 0 And D2017 = 0 And D2016 = 0 And D2015 = 0 And D2014 = 0 And D2013 = 0 And D2012 = 0\", None)\n",
    "\n",
    "# Light or moderate pasture quality filter\n",
    "arcpy.management.SelectLayerByAttribute(\"CAR_ASSENT_AOI_UNION_MUN_PD2021_PASTURE\", \"SUBSET_SELECTION\", \"PASTO_LEVE > 0 Or PASTO_MOD > 0\", None)\n",
    "\n",
    "#Create new shapefile \n",
    "arcpy.CopyFeatures_management('CAR_ASSENT_AOI_UNION_MUN_PD2021_PASTURE', \n",
    "                              r\"C:\\Users\\guilherme.fronza\\OneDrive\\cacauFlorestaAcelerador\\amazon_acelerador\\04a_dados_espaciais\\02_dados_automacao/DB_10YEARS_PLEVMOD\")\n",
    "\n",
    "#Clear selection \n",
    "arcpy.SelectLayerByAttribute_management('CAR_ASSENT_AOI_UNION_MUN_PD2021_PASTURE', \"CLEAR_SELECTION\")\n"
   ]
  },
  {
   "cell_type": "code",
   "execution_count": 15,
   "id": "44b0a7c9",
   "metadata": {},
   "outputs": [
    {
     "data": {
      "text/html": [
       "<div class='gpresult'><h2>Messages</h2><div id='messages' data-messages='[\"Start Time: quarta-feira, 23 de fevereiro de 2022 11:09:57\",\"Succeeded at quarta-feira, 23 de fevereiro de 2022 11:09:57 (Elapsed Time: 0,02 seconds)\"]' data-show='true'><div id = 'default' /></div></div>"
      ],
      "text/plain": [
       "<Result 'CAR_ASSENT_AOI_UNION_MUN_PD2021_PASTURE'>"
      ]
     },
     "execution_count": 15,
     "metadata": {},
     "output_type": "execute_result"
    }
   ],
   "source": [
    "###Amazon Selection 5 years considering no deforestment areas \n",
    "arcpy.management.SelectLayerByAttribute(\"CAR_ASSENT_AOI_UNION_MUN_PD2021_PASTURE\", \"NEW_SELECTION\", \"D2021 = 0 And D2020 = 0 And D2019 = 0 And D2018 = 0 And D2017 = 0\", None)\n",
    "\n",
    "# Light or moderate pasture quality filter\n",
    "arcpy.management.SelectLayerByAttribute(\"CAR_ASSENT_AOI_UNION_MUN_PD2021_PASTURE\", \"SUBSET_SELECTION\", \"PASTO_LEVE > 0 Or PASTO_MOD > 0\", None)\n",
    "\n",
    "#Create new shapefile \n",
    "arcpy.CopyFeatures_management('CAR_ASSENT_AOI_UNION_MUN_PD2021_PASTURE', \n",
    "                              r\"C:\\Users\\guilherme.fronza\\OneDrive\\cacauFlorestaAcelerador\\amazon_acelerador\\04a_dados_espaciais\\02_dados_automacao/DB_5YEARS_PLEVMOD\")\n",
    "\n",
    "#Clear selection \n",
    "arcpy.SelectLayerByAttribute_management('CAR_ASSENT_AOI_UNION_MUN_PD2021_PASTURE', \"CLEAR_SELECTION\")"
   ]
  },
  {
   "cell_type": "code",
   "execution_count": 2,
   "id": "a3e4f289",
   "metadata": {},
   "outputs": [
    {
     "data": {
      "text/html": [
       "<div class='gpresult'><h2>Messages</h2><div id='messages' data-messages='[\"Start Time: quarta-feira, 27 de abril de 2022 10:06:31\",\"Succeeded at quarta-feira, 27 de abril de 2022 10:06:31 (Elapsed Time: 0,02 seconds)\"]' data-show='true'><div id = 'default' /></div></div>"
      ],
      "text/plain": [
       "<Result 'CAR_ASSENT_AOI_UNION_MUN_PD2021_PASTURE'>"
      ]
     },
     "execution_count": 2,
     "metadata": {},
     "output_type": "execute_result"
    }
   ],
   "source": [
    "###Amazon Selection 3 years considering no deforestment areas \n",
    "arcpy.management.SelectLayerByAttribute(\"CAR_ASSENT_AOI_UNION_MUN_PD2021_PASTURE\", \"NEW_SELECTION\", \"D2021 = 0 And D2020 = 0 And D2019 = 0 And D2018 = 0\", None)\n",
    "\n",
    "# Light or moderate pasture quality filter\n",
    "arcpy.management.SelectLayerByAttribute(\"CAR_ASSENT_AOI_UNION_MUN_PD2021_PASTURE\", \"SUBSET_SELECTION\", \"PASTO_LEVE > 0 Or PASTO_MOD > 0\", None)\n",
    "\n",
    "#Create new shapefile \n",
    "arcpy.CopyFeatures_management('CAR_ASSENT_AOI_UNION_MUN_PD2021_PASTURE', \n",
    "                              r\"C:\\Users\\guilherme.fronza\\OneDrive\\cacauFlorestaAcelerador\\amazon_acelerador\\04a_dados_espaciais\\02a_dados_automacao\\4YEARS_PLEVMOD_CF\")\n",
    "\n",
    "#Clear selection \n",
    "arcpy.SelectLayerByAttribute_management('CAR_ASSENT_AOI_UNION_MUN_PD2021_PASTURE', \"CLEAR_SELECTION\")"
   ]
  },
  {
   "cell_type": "code",
   "execution_count": 1,
   "id": "05fe6310",
   "metadata": {},
   "outputs": [],
   "source": [
    "### processing to Selecao Natural study - functional connectivity\n",
    "\n",
    "out_raster = arcpy.sa.Reclassify(\"brasil_coverage_2020_AEA_PARA.tif\", \"Value\", \"3 1;4 1;5 1;9 0;11 1;12 1;15 0;20 0;21 0;23 0;24 0;25 0;30 0;32 1;33 0;39 0;41 0;48 0\", \"DATA\"); out_raster.save(r\"C:\\Users\\guilherme.fronza\\OneDrive\\cacauFlorestaAcelerador\\amazon_acelerador\\04a_dados_espaciais\\02_dados_automacao\\brasil_coverage_2020_AEA_PARA_HABMAT.tif\")"
   ]
  },
  {
   "cell_type": "code",
   "execution_count": null,
   "id": "63cfc3c7",
   "metadata": {},
   "outputs": [],
   "source": []
  },
  {
   "cell_type": "code",
   "execution_count": null,
   "id": "c30156a9",
   "metadata": {},
   "outputs": [],
   "source": []
  },
  {
   "cell_type": "code",
   "execution_count": null,
   "id": "5f7b04fb",
   "metadata": {},
   "outputs": [],
   "source": []
  },
  {
   "cell_type": "code",
   "execution_count": null,
   "id": "48f9201f",
   "metadata": {},
   "outputs": [],
   "source": []
  },
  {
   "cell_type": "code",
   "execution_count": null,
   "id": "0267d74a",
   "metadata": {},
   "outputs": [],
   "source": [
    "#PREVIOUS DEVELOPMENT (Version DEZ/21)"
   ]
  },
  {
   "cell_type": "code",
   "execution_count": null,
   "id": "dc9d1d50",
   "metadata": {},
   "outputs": [],
   "source": [
    "# brasil mapbiomas coverage \n",
    "#arcpy.management.ProjectRaster(\"brasil_coverage_2020.tif\", r\"C:\\Users\\guilherme.fronza\\OneDrive\\Amazon_Select\\Automation\\Mapbiomas_Brazil_2020_coverage_AEA.tif\", 'PROJCS[\"IBGE_Albers_Equal_Area_Conic_Amz\",GEOGCS[\"GCS_SIRGAS_2000\",DATUM[\"D_SIRGAS_2000\",SPHEROID[\"GRS_1980\",6378137.0,298.257222101]],PRIMEM[\"Greenwich\",0.0],UNIT[\"Degree\",0.0174532925199433]],PROJECTION[\"Albers\"],PARAMETER[\"False_Easting\",0.0],PARAMETER[\"False_Northing\",0.0],PARAMETER[\"Central_Meridian\",-59.0],PARAMETER[\"Standard_Parallel_1\",1.0],PARAMETER[\"Standard_Parallel_2\",-14.0],PARAMETER[\"Latitude_Of_Origin\",5.0],UNIT[\"Meter\",1.0]]', \"NEAREST\", \"30 30\", \"SIRGAS_2000_To_WGS_1984_1\", None, 'GEOGCS[\"GCS_WGS_1984\",DATUM[\"D_WGS_1984\",SPHEROID[\"WGS_1984\",6378137.0,298.257223563]],PRIMEM[\"Greenwich\",0.0],UNIT[\"Degree\",0.0174532925199433]]', \"NO_VERTICAL\")\n",
    "\n",
    "# Clip raster mapbiomas coverage 2020 to AOI\n",
    "#arcpy.management.Clip(\"Mapbiomas_Brazil_2020_coverage_AEA.tif\", \"254373.171972426 -1656805.00945003 1436752.68317566 -610634.994524859\", r\"C:\\Users\\guilherme.fronza\\OneDrive\\Amazon_Select\\Automation\\Mapbiomas_Brazil_2020_coverage_AEA_AOI.tif\", \"db00_escopo_municipio\", \"0\", \"NONE\", \"NO_MAINTAIN_EXTENT\")\n",
    "\n",
    "# extract forest class (value 3)\n",
    "#arcpy.ddd.Reclassify(\"Mapbiomas_Brazil_2020_coverage_AEA_AOI.tif\", \"Value\", \"3 1;4 0;5 0;9 0;11 0;12 0;15 0;20 0;21 0;23 0;24 0;25 0;30 0;32 0;33 0;39 0;41 0;48 0\", r\"C:\\Users\\guilherme.fronza\\OneDrive\\Amazon_Select\\Automation\\Mapbiomas_Brazil_2020_coverage_AEA_AOI_CL3.tif\", \"DATA\")\n",
    "\n",
    "# tabulate area \n",
    "#arcpy.sa.TabulateArea(\"CAR_ASSENT_AOI_UNION_MUN_PD2021_PASTURE\", \"FID\", \"Mapbiomas_Brazil_2020_coverage_AEA_AOI_CL3.tif\", \"Value\", r\"C:\\Users\\guilherme.fronza\\OneDrive\\Amazon_Select\\Automation\\tabulate_flores_mask\", r\"C:\\Users\\guilherme.fronza\\OneDrive\\Amazon_Select\\Automation\\Mapbiomas_Brazil_2020_coverage_AEA_AOI_CL3.tif\", \"CLASSES_AS_FIELDS\")\n",
    "\n",
    "# rename mask flo value 0 field and divide by 10000 to get area in ha\n",
    "#arcpy.management.CalculateField(\"tabulate_flores_mask\", \"sem_desm\", \"!VALUE_0! / 10000\", \"PYTHON3\", '', \"DOUBLE\", \"NO_ENFORCE_DOMAINS\")\n",
    "\n",
    "# tabulate area in shapefile \n",
    "#arcpy.management.JoinField(\"CAR_ASSENT_AOI_UNION_MUN_PD2021_PASTURE\", \"FID\", \"tabulate_flores_mask\", \"FID\", \"SEM_DESM\")"
   ]
  }
 ],
 "metadata": {
  "kernelspec": {
   "display_name": "ArcGISPro",
   "language": "Python",
   "name": "xpython"
  },
  "language_info": {
   "file_extension": ".py",
   "name": "python",
   "version": "3"
  }
 },
 "nbformat": 4,
 "nbformat_minor": 5
}
