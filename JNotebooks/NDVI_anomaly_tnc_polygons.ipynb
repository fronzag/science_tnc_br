{
 "cells": [
  {
   "cell_type": "code",
   "execution_count": null,
   "id": "67edd075-59e9-4183-935d-4dcad355dee1",
   "metadata": {},
   "outputs": [],
   "source": [
    "#inicializando GEE\n",
    "try:\n",
    "    import ee\n",
    "except ModuleNotFoundError: \n",
    "    !pip install earth-engine-api\n",
    "    import ee\n",
    "    \n",
    "try:\n",
    "    ee.Initialize()\n",
    "except ee.EEException:\n",
    "    !earthengine authenticate\n",
    "    \n",
    "import geemap\n",
    "import folium\n",
    "from ipygee import *\n",
    "import matplotlib.pyplot as plt\n",
    "from matplotlib import gridspec\n",
    "import pandas as pd\n",
    "\n",
    "%matplotlib inline\n",
    "# install some packages\n",
    "#!pip install ipygee"
   ]
  },
  {
   "cell_type": "code",
   "execution_count": null,
   "id": "63e4b2c8-58b1-4747-8e09-db914d085439",
   "metadata": {},
   "outputs": [],
   "source": [
    "#polygons loading hardcode\n",
    "#ID411 = r\"C:\\Users\\guilherme.fronza\\OneDrive\\Amazon_Select\\Notebooks\\ID_411.shp\"\n",
    "#ID373 = r\"C:\\Users\\guilherme.fronza\\OneDrive\\Amazon_Select\\Notebooks\\ID_373.shp\"\n",
    "ID483 = r\"C:\\Users\\guilherme.fronza\\OneDrive\\cacauFlorestaAcelerador\\amazon_acelerador\\04a_dados_espaciais\\02_dados_scripts\\source\\ID_483.shp\"\n",
    "\n",
    "#create ee.Feature with GEEMAP\n",
    "pol = geemap.shp_to_ee(ID483)\n",
    "\n",
    "#NDVI to Landsat-8\n",
    "def ndvi_func_LC8(image):\n",
    "    ndvi = image.normalizedDifference(['B5', 'B4']).rename('NDVI')\n",
    "    return image.addBands(ndvi)\n",
    "\n",
    "#NDVI to Sentinel-2\n",
    "def ndvi_func_S2(image):\n",
    "    ndvi = image.normalizedDifference(['B8', 'B4']).rename('NDVI')\n",
    "    return image.addBands(ndvi)\n",
    "\n",
    "#Modis scale factor function\n",
    "def scale_factor_MODIS(image):\n",
    "    # scale factor for the MODIS MOD13Q1 product\n",
    "    return image.multiply(0.0001).copyProperties(image, ['system:time_start'])\n",
    "\n",
    "##Mascará de nuvens para a banda pixel_qa SR landsat 4,5 e 7\n",
    "def cloudMaskL457(image):\n",
    "    qa = image.select('pixel_qa') ##substitiu a band FMASK\n",
    "    cloud1 = qa.bitwiseAnd(1<<5).eq(0)\n",
    "    cloud2 = qa.bitwiseAnd(1<<7).eq(0)\n",
    "    cloud3 = qa.bitwiseAnd(1<<3).eq(0)\n",
    "    mask2 = image.mask().reduce(ee.Reducer.min());\n",
    "    return image.updateMask(cloud1).updateMask(cloud2).updateMask(cloud3).updateMask(mask2).divide(10000).copyProperties(image, [\"system:time_start\"])\n",
    "\n",
    "# Define a cloud masking function.\n",
    "def maskL8sr(image):\n",
    "    cloudShadowBitMask = 1<<3\n",
    "    cloudBitMask = 1<<5\n",
    "    qa = image.select('pixel_qa')\n",
    "    mask = qa.bitwiseAnd(cloudShadowBitMask).eq(0).And(qa.bitwiseAnd(cloudBitMask).eq(0))\n",
    "    return image.updateMask(mask)\n",
    "\n",
    "\n",
    "#Visualization with Folium Map GEE integrated\n",
    "def add_ee_layer(self, ee_object, vis_params, name):\n",
    "    try:    \n",
    "        # display ee.Image()\n",
    "        if isinstance(ee_object, ee.image.Image):    \n",
    "            map_id_dict = ee.Image(ee_object).getMapId(vis_params)\n",
    "            folium.raster_layers.TileLayer(\n",
    "            tiles = map_id_dict['tile_fetcher'].url_format,\n",
    "            attr = 'Google Earth Engine',\n",
    "            name = name,\n",
    "            overlay = True,\n",
    "            control = True\n",
    "            ).add_to(self)\n",
    "        # display ee.ImageCollection()\n",
    "        elif isinstance(ee_object, ee.imagecollection.ImageCollection):    \n",
    "            ee_object_new = ee_object.mosaic()\n",
    "            map_id_dict = ee.Image(ee_object_new).getMapId(vis_params)\n",
    "            folium.raster_layers.TileLayer(\n",
    "            tiles = map_id_dict['tile_fetcher'].url_format,\n",
    "            attr = 'Google Earth Engine',\n",
    "            name = name,\n",
    "            overlay = True,\n",
    "            control = True\n",
    "            ).add_to(self)\n",
    "        # display ee.Geometry()\n",
    "        elif isinstance(ee_object, ee.geometry.Geometry):    \n",
    "            folium.GeoJson(\n",
    "            data = ee_object.getInfo(),\n",
    "            name = name,\n",
    "            overlay = True,\n",
    "            fill = False,\n",
    "            control = True\n",
    "        ).add_to(self)\n",
    "        # display ee.FeatureCollection()\n",
    "        elif isinstance(ee_object, ee.featurecollection.FeatureCollection):  \n",
    "            ee_object_new = ee.Image().paint(ee_object, 0, 2)\n",
    "            map_id_dict = ee.Image(ee_object_new).getMapId(vis_params)\n",
    "            folium.raster_layers.TileLayer(\n",
    "            tiles = map_id_dict['tile_fetcher'].url_format,\n",
    "            attr = 'Google Earth Engine',\n",
    "            name = name,\n",
    "            overlay = True,\n",
    "            control = True\n",
    "        ).add_to(self)\n",
    "    except:\n",
    "        print(\"Could not display {}\".format(name))\n",
    "\n",
    "#Add EE drawing method to folium.\n",
    "folium.Map.add_ee_layer = add_ee_layer\n",
    "basemaps = {\n",
    "    'Google Maps': folium.TileLayer(\n",
    "        tiles = 'https://mt1.google.com/vt/lyrs=m&x={x}&y={y}&z={z}',\n",
    "        attr = 'Google',\n",
    "        name = 'Google Maps',\n",
    "        overlay = True,\n",
    "        control = True\n",
    "    ),\n",
    "    'Google Satellite': folium.TileLayer(\n",
    "        tiles = 'https://mt1.google.com/vt/lyrs=s&x={x}&y={y}&z={z}',\n",
    "        attr = 'Google',\n",
    "        name = 'Google Satellite',\n",
    "        overlay = True,\n",
    "        control = True\n",
    "    ),\n",
    "    'Google Terrain': folium.TileLayer(\n",
    "        tiles = 'https://mt1.google.com/vt/lyrs=p&x={x}&y={y}&z={z}',\n",
    "        attr = 'Google',\n",
    "        name = 'Google Terrain',\n",
    "        overlay = True,\n",
    "        control = True\n",
    "    ),\n",
    "    'Google Satellite Hybrid': folium.TileLayer(\n",
    "        tiles = 'https://mt1.google.com/vt/lyrs=y&x={x}&y={y}&z={z}',\n",
    "        attr = 'Google',\n",
    "        name = 'Google Satellite',\n",
    "        overlay = True,\n",
    "        control = True\n",
    "    ),\n",
    "    'Esri Satellite': folium.TileLayer(\n",
    "        tiles = 'https://server.arcgisonline.com/ArcGIS/rest/services/World_Imagery/MapServer/tile/{z}/{y}/{x}',\n",
    "        attr = 'Esri',\n",
    "        name = 'Esri Satellite',\n",
    "        overlay = True,\n",
    "        control = True\n",
    "    )\n",
    "}\n",
    "\n",
    "polygon_params = {\n",
    "  'palette': ['red']}\n",
    "location = pol.geometry().centroid(10).coordinates().getInfo()[::-1]\n",
    "Map = folium.Map(location=location, zoom_start=18)\n",
    "basemaps['Google Satellite Hybrid'].add_to(Map)\n",
    "Map.add_ee_layer(pol, polygon_params, 'polygon')\n",
    "loc = '-'\n",
    "title_html = '''\n",
    "             <h3 align=\"center\" style=\"font-size:16px\"><b>{}</b></h3>\n",
    "             '''.format(loc)  \n",
    "Map.get_root().html.add_child(folium.Element(title_html))\n",
    "Map"
   ]
  },
  {
   "cell_type": "code",
   "execution_count": null,
   "id": "ee7eacad-ee19-46d5-9310-d8f11c37a4d2",
   "metadata": {},
   "outputs": [],
   "source": [
    "def TS_NDVI_plot(imagecoll, polygon, filter_param, scale):\n",
    "    #time series\n",
    "    polygon_ndvi = chart.Image.series(**{'imageCollection': imagecoll.select('NDVI'),\n",
    "                                       'region': polygon,\n",
    "                                       'reducer': ee.Reducer.mean(),\n",
    "                                       'scale': scale,\n",
    "                                       'xProperty': 'system:time_start'})\n",
    "    df = polygon_ndvi.dataframe\n",
    "    df = df.rolling(filter_param, min_periods=1).mean()\n",
    "    return df\n",
    "\n",
    "\n",
    "# Image collection build, spatial and temporal filter\n",
    "l8sr = ee.ImageCollection('LANDSAT/LC08/C01/T1_SR') \\\n",
    "  .filterBounds(pol) \\\n",
    "  .filterDate('2015-01-01', '2022-12-31').map(maskL8sr)\n",
    "\n",
    "#NDVI \n",
    "images_ndvi_LC8 = l8sr.map(ndvi_func_LC8)\n",
    "\n",
    "#TS Constructors\n",
    "LC8_NDVI_ts = TS_NDVI_plot(images_ndvi_LC8, pol, filter_param=1, scale=30)"
   ]
  },
  {
   "cell_type": "code",
   "execution_count": null,
   "id": "c115d4dc-5b75-471e-b94a-f29e455d3eff",
   "metadata": {},
   "outputs": [],
   "source": [
    "LC8_NDVI_ts"
   ]
  },
  {
   "cell_type": "code",
   "execution_count": null,
   "id": "b473e21d-c1ce-4b4d-8975-cbb182c5c6a6",
   "metadata": {},
   "outputs": [],
   "source": [
    "LC8_NDVI_ts.plot(figsize=(15, 6))\n",
    "plt.title('Série temporal NDVI Landsat-8')\n",
    "plt.legend(loc='best')\n",
    "plt.show()"
   ]
  },
  {
   "cell_type": "code",
   "execution_count": null,
   "id": "50faef9d-bebc-4043-967e-d1a354762132",
   "metadata": {},
   "outputs": [],
   "source": [
    "LC8_NDVI_ts.plot(figsize=(15, 6),kind='box',vert=False)\n",
    "plt.title('Box-plot da Série temporal NDVI MODIS')\n",
    "plt.show()"
   ]
  },
  {
   "cell_type": "code",
   "execution_count": null,
   "id": "ba8b7f54-f63a-4b3a-98af-5a9b9fe882e8",
   "metadata": {},
   "outputs": [],
   "source": [
    "#Percentual de outliers\n",
    "str(round((len(LC8_NDVI_ts[LC8_NDVI_ts['NDVI']<0.6])/len(LC8_NDVI_ts))*100,2)) + \" % dos dados são outliers\""
   ]
  },
  {
   "cell_type": "code",
   "execution_count": null,
   "id": "e3cdb956-4adc-4626-b1eb-06b1e29ad4fa",
   "metadata": {},
   "outputs": [],
   "source": [
    "#enriquecendo o dataset\n",
    "dataset = LC8_NDVI_ts\n",
    "dataset['dia_do_ano'] = [i.dayofyear for i in dataset.index]\n",
    "dataset['semana_do_ano'] = [i.weekofyear for i in dataset.index]"
   ]
  },
  {
   "cell_type": "code",
   "execution_count": null,
   "id": "b038625a",
   "metadata": {},
   "outputs": [],
   "source": [
    "dataset"
   ]
  },
  {
   "cell_type": "code",
   "execution_count": null,
   "id": "f3edf753-f7d1-4b74-94ee-9ceb8b320ceb",
   "metadata": {},
   "outputs": [],
   "source": [
    "data = dataset.sample(frac=0.95, random_state=786)\n",
    "data_unseen = dataset.drop(data.index)\n",
    "\n",
    "print('Data for Modeling: ' + str(data.shape))\n",
    "print('Unseen Data For Predictions: ' + str(data_unseen.shape))"
   ]
  },
  {
   "cell_type": "code",
   "execution_count": null,
   "id": "090a7a2a-9ae9-4f58-a086-5b5325becedb",
   "metadata": {},
   "outputs": [],
   "source": [
    "data.head(5)"
   ]
  },
  {
   "cell_type": "code",
   "execution_count": null,
   "id": "4296788f-dfaa-4674-8a76-0ff83e9070b2",
   "metadata": {},
   "outputs": [],
   "source": [
    "from pycaret.anomaly import setup , create_model , assign_model , plot_model , predict_model , save_model , load_model \n",
    "exp_ano101 = setup(data, normalize = True, session_id = 123)"
   ]
  },
  {
   "cell_type": "code",
   "execution_count": null,
   "id": "7700a3cf-6ef0-4e5a-a91e-c196a288fb7f",
   "metadata": {},
   "outputs": [],
   "source": [
    "iforest = create_model('iforest', fraction = 0.01)\n",
    "iforest_results = assign_model(iforest)\n",
    "iforest_results[iforest_results['Anomaly'] == 1].head()"
   ]
  },
  {
   "cell_type": "code",
   "execution_count": null,
   "id": "2f1a9bbc-06b0-4e08-accb-fc282588009c",
   "metadata": {},
   "outputs": [],
   "source": [
    "plot_model(iforest,feature=\"NDVI\")"
   ]
  },
  {
   "cell_type": "code",
   "execution_count": null,
   "id": "09a1c4c8",
   "metadata": {},
   "outputs": [],
   "source": [
    "data_unseen['NDVI'][0] = 0.5\n",
    "unseen_predictions = predict_model(iforest, data=data_unseen)\n",
    "unseen_predictions[unseen_predictions['Anomaly'] == 1].head()"
   ]
  },
  {
   "cell_type": "code",
   "execution_count": null,
   "id": "f2819eba",
   "metadata": {},
   "outputs": [],
   "source": [
    "data"
   ]
  },
  {
   "cell_type": "code",
   "execution_count": null,
   "id": "967eb353",
   "metadata": {},
   "outputs": [],
   "source": [
    "save_model(iforest,'Anomaly_Detection_NDVI_IForest_Model')"
   ]
  },
  {
   "cell_type": "code",
   "execution_count": null,
   "id": "37645f81",
   "metadata": {},
   "outputs": [],
   "source": [
    "Anomaly_Detection_Model = load_model('Anomaly_Detection_NDVI_IForest_Model')"
   ]
  },
  {
   "cell_type": "code",
   "execution_count": null,
   "id": "7cf888b4",
   "metadata": {},
   "outputs": [],
   "source": [
    "anomaly = data[data['NDVI'] <0.6]\n",
    "anomaly.shape"
   ]
  },
  {
   "cell_type": "code",
   "execution_count": null,
   "id": "cfdc488e",
   "metadata": {},
   "outputs": [],
   "source": [
    "data.shape"
   ]
  },
  {
   "cell_type": "code",
   "execution_count": null,
   "id": "5f28a8dd",
   "metadata": {},
   "outputs": [],
   "source": [
    "new_prediction = predict_model(Anomaly_Detection_Model, data=dataset)\n",
    "#Excluindo anomalias positivas\n",
    "anomaly = new_prediction[new_prediction['Anomaly'] == 1][new_prediction['NDVI']<0.4]\n"
   ]
  },
  {
   "cell_type": "code",
   "execution_count": null,
   "id": "01198ee2",
   "metadata": {},
   "outputs": [],
   "source": [
    "fig, ax = plt.subplots(figsize=(15, 6))\n",
    "ax.scatter(anomaly.index,anomaly['NDVI'],color='red',label='Anomalies')\n",
    "ax.plot(LC8_NDVI_ts['NDVI'],label='NDVI')\n",
    "plt.title('Testing anomalies detection into agroforestry areas,  Landsat-8 NDVI Time Series - 2015/2022', size=15)\n",
    "plt.legend(loc='best')\n",
    "plt.style.use('fivethirtyeight')\n",
    "plt.show()"
   ]
  },
  {
   "cell_type": "code",
   "execution_count": null,
   "id": "e1c5da25",
   "metadata": {},
   "outputs": [],
   "source": []
  }
 ],
 "metadata": {
  "kernelspec": {
   "display_name": "'ENV2'",
   "language": "python",
   "name": "env2"
  },
  "language_info": {
   "codemirror_mode": {
    "name": "ipython",
    "version": 3
   },
   "file_extension": ".py",
   "mimetype": "text/x-python",
   "name": "python",
   "nbconvert_exporter": "python",
   "pygments_lexer": "ipython3",
   "version": "3.9.11"
  }
 },
 "nbformat": 4,
 "nbformat_minor": 5
}
