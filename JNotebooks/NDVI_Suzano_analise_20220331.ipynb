{
 "cells": [
  {
   "cell_type": "markdown",
   "id": "2b08b710-ae18-4a7b-af97-5d9fa15ba3f1",
   "metadata": {},
   "source": [
    "### Processamento NDVI Suzano 11.603 polígonos de restauração\n",
    "### Amostras de referência de pastagem e floresta\n",
    "#### Criado por José Guilherme Fronza em 31/03/2022\n",
    "#### NDVI Sentinel-2 TOA 2016-2021 - Semestral\n",
    "#### Processado no Google Earth Engine e limpo/tratado neste Notebook\n",
    "## The Nature Conservancy/Brazilian Science Team\n",
    "#### v1"
   ]
  },
  {
   "cell_type": "code",
   "execution_count": null,
   "id": "de1f82ed-2afa-4c25-a9ee-f6d552804984",
   "metadata": {},
   "outputs": [],
   "source": [
    "import geopandas as gpd\n",
    "import pandas as pd\n",
    "import numpy as np"
   ]
  },
  {
   "cell_type": "code",
   "execution_count": null,
   "id": "9915dc75-4d0e-4e77-975a-c933dd461d09",
   "metadata": {},
   "outputs": [],
   "source": [
    "#Import geojson extracted from GEE export table task manager\n",
    "suzano1 = gpd.read_file(r\"C:\\Users\\guilherme.fronza\\OneDrive\\cacauFlorestaAcelerador\\amazon_acelerador\\04a_dados_espaciais\\02h_dados_scripts\\source\\drive-download-20220328T163524Z-001\\NDVI_S2_TOA_2016_2021_suzano_2000.geojson\")\n",
    "suzano2 = gpd.read_file(r\"C:\\Users\\guilherme.fronza\\OneDrive\\cacauFlorestaAcelerador\\amazon_acelerador\\04a_dados_espaciais\\02h_dados_scripts\\source\\drive-download-20220328T163524Z-001\\NDVI_S2_TOA_2016_2021_suzano_4000.geojson\")\n",
    "suzano3 = gpd.read_file(r\"C:\\Users\\guilherme.fronza\\OneDrive\\cacauFlorestaAcelerador\\amazon_acelerador\\04a_dados_espaciais\\02h_dados_scripts\\source\\drive-download-20220328T163524Z-001\\NDVI_S2_TOA_2016_2021_suzano_6000.geojson\")\n",
    "suzano4 = gpd.read_file(r\"C:\\Users\\guilherme.fronza\\OneDrive\\cacauFlorestaAcelerador\\amazon_acelerador\\04a_dados_espaciais\\02h_dados_scripts\\source\\drive-download-20220328T163524Z-001\\NDVI_S2_TOA_2016_2021_suzano_8000.geojson\")\n",
    "suzano5 = gpd.read_file(r\"C:\\Users\\guilherme.fronza\\OneDrive\\cacauFlorestaAcelerador\\amazon_acelerador\\04a_dados_espaciais\\02h_dados_scripts\\source\\drive-download-20220328T163524Z-001\\NDVI_S2_TOA_2016_2021_suzano_10000.geojson\")\n",
    "suzano6 = gpd.read_file(r\"C:\\Users\\guilherme.fronza\\OneDrive\\cacauFlorestaAcelerador\\amazon_acelerador\\04a_dados_espaciais\\02h_dados_scripts\\source\\drive-download-20220328T163524Z-001\\NDVI_S2_TOA_2016_2021_suzano_12000.geojson\")"
   ]
  },
  {
   "cell_type": "code",
   "execution_count": null,
   "id": "5e22cfef",
   "metadata": {},
   "outputs": [],
   "source": [
    "#Pandas concat geojson\n",
    "suzano_gdf = pd.concat([suzano1, suzano2, suzano3, suzano4, suzano5, suzano6])"
   ]
  },
  {
   "cell_type": "code",
   "execution_count": null,
   "id": "f6c8ec85-07eb-42cc-95c8-07b373121f71",
   "metadata": {},
   "outputs": [],
   "source": [
    "#Read Geopandas to check columns and rows\n",
    "suzano_gdf.head()"
   ]
  },
  {
   "cell_type": "code",
   "execution_count": null,
   "id": "8b99eb61-4834-42df-a39d-01564491c1b6",
   "metadata": {},
   "outputs": [],
   "source": [
    "#count unique id column\n",
    "suzano_gdf['id'].nunique()"
   ]
  },
  {
   "cell_type": "code",
   "execution_count": null,
   "id": "1d4f4196-46d4-42c9-87e4-6a7e20bdf5c1",
   "metadata": {},
   "outputs": [],
   "source": [
    "#Check columns names\n",
    "suzano_gdf.columns"
   ]
  },
  {
   "cell_type": "code",
   "execution_count": null,
   "id": "8d7e6d2e-4374-46b8-ba65-c2b3ccdf7d7d",
   "metadata": {},
   "outputs": [],
   "source": [
    "#Check unique METODO column\n",
    "suzano_gdf['METODO'].unique()"
   ]
  },
  {
   "cell_type": "code",
   "execution_count": null,
   "id": "829363c3-cc70-450c-8062-998a968e6669",
   "metadata": {},
   "outputs": [],
   "source": [
    "#Drop PE variable from METODO column\n",
    "suzano_gdf = suzano_gdf.loc[suzano_gdf['METODO'].isin(['CE', 'CO', 'PC', 'PL', 'RE'])]"
   ]
  },
  {
   "cell_type": "code",
   "execution_count": null,
   "id": "1b30e0f8-f992-4797-a151-18169333ea43",
   "metadata": {},
   "outputs": [],
   "source": [
    "#Transform ANOIMPL column to int\n",
    "suzano_gdf['ANOIMPL'] = suzano_gdf['ANOIMPL'].astype('int64')\n",
    "#Select ANOIMPL higher or equal to 2016\n",
    "suzano_gdf = suzano_gdf[suzano_gdf['ANOIMPL'] >= 2016]"
   ]
  },
  {
   "cell_type": "code",
   "execution_count": null,
   "id": "ed92e0f2-2345-42d6-a43e-ba0b0b4d3c2e",
   "metadata": {},
   "outputs": [],
   "source": [
    "#Classify forest age in two classes - 0-3 years and 3-6 years\n",
    "suzano_gdf['idade'] = 'sem valor'\n",
    "\n",
    "suzano_gdf['idade'] = np.where(suzano_gdf['ANOIMPL'] == 2021, \n",
    "                                                 '0-3 anos', suzano_gdf['idade'])\n",
    "suzano_gdf['idade'] = np.where(suzano_gdf['ANOIMPL'] == 2020, \n",
    "                                                 '0-3 anos', suzano_gdf['idade'])\n",
    "suzano_gdf['idade'] = np.where(suzano_gdf['ANOIMPL'] == 2019, \n",
    "                                                 '0-3 anos', suzano_gdf['idade'])\n",
    "suzano_gdf['idade'] = np.where(suzano_gdf['ANOIMPL'] == 2018, \n",
    "                                                 '3-6 anos', suzano_gdf['idade'])\n",
    "suzano_gdf['idade'] = np.where(suzano_gdf['ANOIMPL'] == 2017, \n",
    "                                                 '3-6 anos', suzano_gdf['idade'])\n",
    "suzano_gdf['idade'] = np.where(suzano_gdf['ANOIMPL'] == 2016, \n",
    "                                                 '3-6 anos', suzano_gdf['idade'])"
   ]
  },
  {
   "cell_type": "code",
   "execution_count": null,
   "id": "119c7aba-de9c-4f2c-999b-faaa73c3d016",
   "metadata": {},
   "outputs": [],
   "source": [
    "#Check new column filling\n",
    "suzano_gdf.head()"
   ]
  },
  {
   "cell_type": "code",
   "execution_count": null,
   "id": "2a9c10d3-6a52-462e-8378-acea652ad27e",
   "metadata": {},
   "outputs": [],
   "source": [
    "#count 0-3y class by METODO column\n",
    "suzano_gdf[suzano_gdf['idade'] == '0-3 anos'].groupby(['METODO']).size()"
   ]
  },
  {
   "cell_type": "code",
   "execution_count": null,
   "id": "ac2766ae-2878-4d77-9c29-aefa6df17770",
   "metadata": {},
   "outputs": [],
   "source": [
    "#count 3-6y class by METODO column\n",
    "suzano_gdf[suzano_gdf['idade'] == '3-6 anos'].groupby(['METODO']).size()"
   ]
  },
  {
   "cell_type": "code",
   "execution_count": null,
   "id": "2113407b-35c1-4b49-a219-aa93d6fd6a44",
   "metadata": {},
   "outputs": [],
   "source": [
    "#Important to export to shapefile (integrity)\n",
    "#This part of code eliminate linestrings and other from Geometrycollections\n",
    "\n",
    "gdf_filtered = suzano_gdf.copy()\n",
    "\n",
    "for i, row in suzano_gdf.iterrows():\n",
    "    if type(row.geometry) == shapely.geometry.collection.GeometryCollection:\n",
    "\n",
    "        # get the polygon and only keep the polygon \n",
    "        for shape in row.geometry:\n",
    "            if type(shape) == shapely.geometry.polygon.Polygon:\n",
    "                gdf_filtered.at[i, 'geometry'] = shape\n",
    "                break\n",
    "#gdf_filtered is the output\n",
    "                \n",
    "#suzano_gdf.to_file(\"suzano_gdf_2016_2021_subset2016.geojson\", ddriver='GeoJSON')\n",
    "#suzano_gdf.to_file(\"suzano_gdf_2016_2021_subset2016.gpkg\",driver=\"GPKG\")"
   ]
  },
  {
   "cell_type": "code",
   "execution_count": null,
   "id": "e245d1b8-07d1-4145-ba38-c311c252f59b",
   "metadata": {},
   "outputs": [],
   "source": [
    "#Export to shapefile\n",
    "gdf_filtered.to_file(\"suzano_gdf_2016_2021_subset2016.shp\")"
   ]
  },
  {
   "cell_type": "code",
   "execution_count": null,
   "id": "3c6b0a7f-1788-4430-ba41-e2e9f3caaf0f",
   "metadata": {},
   "outputs": [],
   "source": [
    "#Plot test with 10 rows\n",
    "subset_suzano_gdf = suzano_gdf[:10]"
   ]
  },
  {
   "cell_type": "code",
   "execution_count": null,
   "id": "ada0e0b7-edf2-4235-9e9d-08516326e585",
   "metadata": {},
   "outputs": [],
   "source": [
    "#Set CODTALHAO Column as index\n",
    "subset_suzano_gdf.set_index('CODTALHAO',inplace=True)\n",
    "#subset_suzano_gdf.iloc[:, 4]#.T.plot(grid = True)"
   ]
  },
  {
   "cell_type": "code",
   "execution_count": null,
   "id": "dee7f391-1511-4bb7-8b1f-fa8c943d896b",
   "metadata": {},
   "outputs": [],
   "source": [
    "#Test iloc subset by columns position\n",
    "subset_suzano_gdf.iloc[:,3:16]"
   ]
  },
  {
   "cell_type": "code",
   "execution_count": null,
   "id": "ae99547b-e77d-4eb0-bec2-290a7c89add4",
   "metadata": {},
   "outputs": [],
   "source": [
    "#subset timeseries columns to plot in graph\n",
    "subset_suzano_gdf_s = subset_suzano_gdf.iloc[:,3:15]#.plot.line()\n",
    "fig, ax = plt.subplots(figsize=(15,7), dpi=100)\n",
    "tickvalues = range(0,len(subset_suzano_gdf_s.columns))\n",
    "ax = subset_suzano_gdf_s.T.plot.line(ax=ax)\n",
    "plt.title('NDVI plots por talhões 2016-2021 semestral - Suzano',fontsize=10)\n",
    "plt.xticks(ticks = tickvalues, labels = subset_suzano_gdf_s.columns.tolist(), rotation=45)\n",
    "plt.show()"
   ]
  },
  {
   "cell_type": "code",
   "execution_count": null,
   "id": "589f6bdb-68b8-48b8-82a8-b8dd19c27427",
   "metadata": {},
   "outputs": [],
   "source": [
    "#Read forest and pasture samples (reference) as Geopandas dataframes\n",
    "amostras_pastagem_NDVI = gpd.read_file(r\"C:\\Users\\guilherme.fronza\\OneDrive\\cacauFlorestaAcelerador\\amazon_acelerador\\04a_dados_espaciais\\02h_dados_scripts\\source\\drive-download-20220328T163524Z-001\\amostras_pastagem_suzano_2016_2021.geojson\")\n",
    "amostras_floresta_NDVI = gpd.read_file(r\"C:\\Users\\guilherme.fronza\\OneDrive\\cacauFlorestaAcelerador\\amazon_acelerador\\04a_dados_espaciais\\02h_dados_scripts\\source\\drive-download-20220328T163524Z-001\\amostras_floresta_suzano_2016_2021.geojson\")"
   ]
  },
  {
   "cell_type": "code",
   "execution_count": null,
   "id": "33a902b3-030e-4a9d-91c1-94590be557cf",
   "metadata": {},
   "outputs": [],
   "source": [
    "#Set ID as index and drop geometry column\n",
    "amostras_pastagem_NDVI.set_index('id',inplace=True)\n",
    "amostras_floresta_NDVI.set_index('id',inplace=True)\n",
    "amostras_pastagem_NDVI = amostras_pastagem_NDVI.drop(columns=['geometry'])\n",
    "amostras_floresta_NDVI = amostras_floresta_NDVI.drop(columns=['geometry'])"
   ]
  },
  {
   "cell_type": "code",
   "execution_count": null,
   "id": "3e0e614b-28fd-4b4c-aafd-bd98e23e0882",
   "metadata": {},
   "outputs": [],
   "source": [
    "#plot pasture NDVI plots\n",
    "fig, ax = plt.subplots(figsize=(15,7), dpi=100)\n",
    "tickvalues = range(0,len(amostras_pastagem_NDVI.columns))\n",
    "ax = amostras_pastagem_NDVI.T.plot.line(ax=ax, legend=False)\n",
    "plt.title('NDVI amostras pastagem 2016-2021 semestral - Suzano',fontsize=10)\n",
    "plt.xticks(ticks = tickvalues, labels = amostras_pastagem_NDVI.columns.tolist(), rotation=60)\n",
    "ax.set_ylim(0.0, 1.0)\n",
    "plt.savefig('amostras_pastagem_2016_2021_NDVI_S2_TOA.png', dpi=300)\n",
    "plt.show()"
   ]
  },
  {
   "cell_type": "code",
   "execution_count": null,
   "id": "f4871368-2e98-4fe8-bda4-a4816d6230ff",
   "metadata": {},
   "outputs": [],
   "source": [
    "#plot forest NDVI plots\n",
    "fig, ax = plt.subplots(figsize=(15,7), dpi=100)\n",
    "tickvalues = range(0,len(amostras_floresta_NDVI.columns))\n",
    "ax = amostras_floresta_NDVI.T.plot.line(ax=ax, legend=False)\n",
    "plt.title('NDVI amostras floresta 2016-2021 semestral - Suzano',fontsize=10)\n",
    "plt.xticks(ticks = tickvalues, labels = amostras_floresta_NDVI.columns.tolist(), rotation=60)\n",
    "ax.set_ylim(0.0, 1.0)\n",
    "plt.savefig('amostras_floresta_2016_2021_NDVI_S2_TOA.png', dpi=300)\n",
    "plt.show()"
   ]
  }
 ],
 "metadata": {
  "kernelspec": {
   "display_name": "env3",
   "language": "python",
   "name": "env3"
  },
  "language_info": {
   "codemirror_mode": {
    "name": "ipython",
    "version": 3
   },
   "file_extension": ".py",
   "mimetype": "text/x-python",
   "name": "python",
   "nbconvert_exporter": "python",
   "pygments_lexer": "ipython3",
   "version": "3.9.11"
  }
 },
 "nbformat": 4,
 "nbformat_minor": 5
}
