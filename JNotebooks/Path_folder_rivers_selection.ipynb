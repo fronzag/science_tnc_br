{
 "cells": [
  {
   "cell_type": "markdown",
   "metadata": {},
   "source": [
    "#### v0 30/05/2022\n",
    "#### SCIENCE TEAM\n",
    "#### THE NATURE CONSERVANCY\n",
    "\n",
    "\n",
    "### JUPYTER NOTEBOOK TO AUTOMATIZE FOLDER PATH PROCESSING\n",
    "\n",
    "##### TNC SCIENCE TEAM EFFORT TO SCRIPT DATA PROCESSING\n"
   ]
  },
  {
   "cell_type": "code",
   "execution_count": 1,
   "metadata": {},
   "outputs": [
    {
     "data": {
      "text/plain": [
       "['1500107', '1500131', '1500206']"
      ]
     },
     "execution_count": 1,
     "metadata": {},
     "output_type": "execute_result"
    }
   ],
   "source": [
    "#ref 1 https://pro.arcgis.com/en/pro-app/2.8/tool-reference/data-management/select-layer-by-location.htm\n",
    "# ref 2 https://gis.stackexchange.com/questions/82250/how-to-get-sum-of-table-column-values-into-python-variable\n",
    "#for learning/knowledge sharing purpose, we won't use functions here\n",
    "\n",
    "import os\n",
    "import pandas as pd\n",
    "import glob\n",
    "\n",
    "#path to hydrography folder to get ibge code list\n",
    "hidrografia_folder =r\"C:\\Users\\guilherme.fronza\\Downloads\\py_data\\Hidrografia_rios_simples\"\n",
    "\n",
    "included_extensions = ['shp']\n",
    "#select shapefiles to filenames variable\n",
    "filenames = [fn for fn in os.listdir(hidrografia_folder)\n",
    "              if any(fn.endswith(ext) for ext in included_extensions)]\n",
    "\n",
    "#create empty list\n",
    "cod_ibge_list = []\n",
    "\n",
    "#loop through filenames and select cod ibge list\n",
    "for filename in filenames:\n",
    "    temp = filename.split(\"_\")[1]\n",
    "    cod_ibge_list.append(temp)\n",
    "cod_ibge_list"
   ]
  },
  {
   "cell_type": "code",
   "execution_count": 2,
   "metadata": {},
   "outputs": [
    {
     "name": "stdout",
     "output_type": "stream",
     "text": [
      "1500107\n",
      "1500131\n",
      "1500206\n"
     ]
    }
   ],
   "source": [
    "\n",
    "#entire data folder (protected areas and hydrography layers)\n",
    "data_folder = r\"C:\\Users\\guilherme.fronza\\Downloads\\py_data\"\n",
    "\n",
    "#create empty lists to append shp paths\n",
    "app_shp_list = []\n",
    "hidrografia_shp_list = []\n",
    "\n",
    "#nested loopings to walk through folders and subfolders to find rios_simples and app_uso shapefiles considering previous cod_ibge list.\n",
    "for cod_ibge in cod_ibge_list:\n",
    "    print(cod_ibge)\n",
    "    for path, subdirs, files in os.walk(data_folder):\n",
    "        for name in files:\n",
    "            if name == (str('PA_' + cod_ibge) + '_RIOS_SIMPLES.shp'):\n",
    "                #print('condicao 1')\n",
    "                hidrografia_shp_list.append(os.path.join(path,name))\n",
    "            elif name == (str('PA_' + cod_ibge) + '_APP_USO.shp'):\n",
    "                #print('condicao 2')\n",
    "                app_shp_list.append(os.path.join(path,name))\n",
    "            else:\n",
    "                None               "
   ]
  },
  {
   "cell_type": "code",
   "execution_count": 3,
   "metadata": {},
   "outputs": [
    {
     "data": {
      "text/plain": [
       "['C:\\\\Users\\\\guilherme.fronza\\\\Downloads\\\\py_data\\\\Hidrografia_rios_simples\\\\PA_1500107_RIOS_SIMPLES.shp', 'C:\\\\Users\\\\guilherme.fronza\\\\Downloads\\\\py_data\\\\Hidrografia_rios_simples\\\\PA_1500131_RIOS_SIMPLES.shp', 'C:\\\\Users\\\\guilherme.fronza\\\\Downloads\\\\py_data\\\\Hidrografia_rios_simples\\\\PA_1500206_RIOS_SIMPLES.shp']"
      ]
     },
     "execution_count": 3,
     "metadata": {},
     "output_type": "execute_result"
    }
   ],
   "source": [
    "#print hydrography list\n",
    "hidrografia_shp_list"
   ]
  },
  {
   "cell_type": "code",
   "execution_count": 4,
   "metadata": {},
   "outputs": [
    {
     "data": {
      "text/plain": [
       "['C:\\\\Users\\\\guilherme.fronza\\\\Downloads\\\\py_data\\\\APP_USO\\\\PA_1500107_APP_USO.shp', 'C:\\\\Users\\\\guilherme.fronza\\\\Downloads\\\\py_data\\\\APP_USO\\\\PA_1500131_APP_USO.shp', 'C:\\\\Users\\\\guilherme.fronza\\\\Downloads\\\\py_data\\\\APP_USO\\\\PA_1500206_APP_USO.shp']"
      ]
     },
     "execution_count": 4,
     "metadata": {},
     "output_type": "execute_result"
    }
   ],
   "source": [
    "#print protected areas list\n",
    "app_shp_list"
   ]
  },
  {
   "cell_type": "code",
   "execution_count": 5,
   "metadata": {},
   "outputs": [
    {
     "name": "stdout",
     "output_type": "stream",
     "text": [
      "1500107\n",
      "C:\\Users\\guilherme.fronza\\Downloads\\py_data\\Hidrografia_rios_simples\\PA_1500107_RIOS_SIMPLES.shp\n",
      "C:\\Users\\guilherme.fronza\\Downloads\\py_data\\APP_USO\\PA_1500107_APP_USO.shp\n",
      "998.9933753209189\n",
      "1500131\n",
      "C:\\Users\\guilherme.fronza\\Downloads\\py_data\\Hidrografia_rios_simples\\PA_1500131_RIOS_SIMPLES.shp\n",
      "C:\\Users\\guilherme.fronza\\Downloads\\py_data\\APP_USO\\PA_1500131_APP_USO.shp\n",
      "881.3870239257812\n",
      "1500206\n",
      "C:\\Users\\guilherme.fronza\\Downloads\\py_data\\Hidrografia_rios_simples\\PA_1500206_RIOS_SIMPLES.shp\n",
      "C:\\Users\\guilherme.fronza\\Downloads\\py_data\\APP_USO\\PA_1500206_APP_USO.shp\n",
      "2398.246295039309\n"
     ]
    }
   ],
   "source": [
    "#create empty list to append results (temporary)\n",
    "result_list = []\n",
    "\n",
    "#create list columns names\n",
    "columns = ['COD IBGE', 'COMP_KM_SUM']\n",
    "\n",
    "#nested looping to iterate over cod_ibge, protected areas and hydrography layers and process the data.\n",
    "for hidrografia, app, cod_ibge in zip(hidrografia_shp_list, app_shp_list, cod_ibge_list):\n",
    "    #a lot of prints (you can remove it)\n",
    "    print(cod_ibge)\n",
    "    print(hidrografia)\n",
    "    print(app)\n",
    "   \n",
    "    #create the degraded rivers layer with select layer by location tool\n",
    "    rios_degrad = arcpy.SelectLayerByLocation_management(hidrografia, \"WITHIN_A_DISTANCE\", app, \"10 Meters\", \n",
    "                                       \"NEW_SELECTION\", \"NOT_INVERT\")\n",
    "    #initialize summed_total variable \n",
    "    summed_total = 0\n",
    "    #loop through degraded river layer to sum degraded river lenghts (in kilometers)\n",
    "    with arcpy.da.SearchCursor(rios_degrad, \"COMP_KM\") as cursor:\n",
    "        for row in cursor:\n",
    "            summed_total = summed_total + row[0]\n",
    "    print(summed_total)\n",
    "    #append results in the list \n",
    "    result_list.append({\n",
    "         columns[0]: cod_ibge,\n",
    "         columns[1]: summed_total\n",
    "     })\n",
    "#transform the result to a dataframe \n",
    "df_cod_ibge_river_sum = pd.DataFrame(result_list)"
   ]
  },
  {
   "cell_type": "code",
   "execution_count": 6,
   "metadata": {},
   "outputs": [
    {
     "data": {
      "text/html": [
       "<div>\n",
       "<style scoped>\n",
       "    .dataframe tbody tr th:only-of-type {\n",
       "        vertical-align: middle;\n",
       "    }\n",
       "\n",
       "    .dataframe tbody tr th {\n",
       "        vertical-align: top;\n",
       "    }\n",
       "\n",
       "    .dataframe thead th {\n",
       "        text-align: right;\n",
       "    }\n",
       "</style>\n",
       "<table border=\"1\" class=\"dataframe\">\n",
       "  <thead>\n",
       "    <tr style=\"text-align: right;\">\n",
       "      <th></th>\n",
       "      <th>COD IBGE</th>\n",
       "      <th>COMP_KM_SUM</th>\n",
       "    </tr>\n",
       "  </thead>\n",
       "  <tbody>\n",
       "    <tr>\n",
       "      <th>0</th>\n",
       "      <td>1500107</td>\n",
       "      <td>998.993375</td>\n",
       "    </tr>\n",
       "    <tr>\n",
       "      <th>1</th>\n",
       "      <td>1500131</td>\n",
       "      <td>881.387024</td>\n",
       "    </tr>\n",
       "    <tr>\n",
       "      <th>2</th>\n",
       "      <td>1500206</td>\n",
       "      <td>2398.246295</td>\n",
       "    </tr>\n",
       "  </tbody>\n",
       "</table>\n",
       "</div>"
      ],
      "text/plain": [
       "  COD IBGE  COMP_KM_SUM\n",
       "0  1500107   998.993375\n",
       "1  1500131   881.387024\n",
       "2  1500206  2398.246295"
      ]
     },
     "execution_count": 6,
     "metadata": {},
     "output_type": "execute_result"
    }
   ],
   "source": [
    "#check the final result\n",
    "df_cod_ibge_river_sum"
   ]
  },
  {
   "cell_type": "code",
   "execution_count": 7,
   "metadata": {},
   "outputs": [],
   "source": [
    "#export the final result to Excel file\n",
    "df_cod_ibge_river_sum.to_excel(\"df_cod_ibge_river_sum.xlsx\")"
   ]
  },
  {
   "cell_type": "code",
   "execution_count": 9,
   "metadata": {},
   "outputs": [
    {
     "name": "stdout",
     "output_type": "stream",
     "text": [
      "C:\\Users\\guilherme.fronza\\OneDrive\\cacauFlorestaAcelerador\\amazon_acelerador\\04a_dados_espaciais\\02e_dados_projeto\n"
     ]
    }
   ],
   "source": [
    "#check the path\n",
    "#you can change it, try to :D \n",
    "current_path = os.getcwd()\n",
    "print(current_path)"
   ]
  },
  {
   "cell_type": "code",
   "execution_count": null,
   "metadata": {},
   "outputs": [],
   "source": []
  }
 ],
 "metadata": {
  "kernelspec": {
   "display_name": "ArcGISPro",
   "language": "Python",
   "name": "xpython"
  },
  "language_info": {
   "file_extension": ".py",
   "name": "python",
   "version": "3"
  }
 },
 "nbformat": 4,
 "nbformat_minor": 2
}
